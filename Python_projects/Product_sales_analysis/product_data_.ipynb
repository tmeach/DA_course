{
 "cells": [
  {
   "cell_type": "code",
   "execution_count": null,
   "id": "f83fd3c2-72fc-4e52-aeaf-51c6833f2e33",
   "metadata": {},
   "outputs": [],
   "source": [
    "Данные имеют следующую структуру:\n",
    "    записываются для каждого пользователя, совершившего покупки, каждый день\n",
    "    для каждой даты есть своя папка, внутри неё – папки для каждого пользователя\n",
    "    внутри каждой папки есть файл data.csv, где и хранятся данные"
   ]
  },
  {
   "cell_type": "code",
   "execution_count": null,
   "id": "660ef223-ae3b-42cd-a769-4da252e0e5d0",
   "metadata": {},
   "outputs": [],
   "source": [
    "Схематично выглядит так:\n",
    "\n",
    "└── data\n",
    "   ├── 2020-12-30\n",
    "   │  ├── FirstName_LastName1\n",
    "   │  │   └── data.csv\n",
    "   │  ├── FirstName_LastName2\n",
    "   │  │   └── data.csv\n",
    "   │  └── FirstName_LastName3\n",
    "   │      └── data.csv\n",
    "   └── 2020-12-31\n",
    "      ├── FirstName_LastName1\n",
    "      │   └── data.csv\n",
    "      └── FirstName_LastName5\n",
    "          └── data.csv"
   ]
  },
  {
   "cell_type": "markdown",
   "id": "71948b30",
   "metadata": {},
   "source": [
    "#### Импорт необходимых библиотек"
   ]
  },
  {
   "cell_type": "code",
   "execution_count": 13,
   "id": "55579604-3666-4463-b4af-bb3baada9734",
   "metadata": {},
   "outputs": [],
   "source": [
    "import pandas as pd\n",
    "import seaborn as sns\n",
    "import matplotlib.pyplot as plt\n",
    "import os\n",
    "import zipfile\n",
    "\n",
    "%matplotlib inline "
   ]
  },
  {
   "cell_type": "markdown",
   "id": "ddc628e9",
   "metadata": {},
   "source": [
    "### Вопрос 1: Соберите все данные из папки data в один датафрэйм, имеющий следующие столбцы: колонки из самих файлов (product_id, quantity), имя пользователя (name), и дату этих покупок (date), соответствует названию папки, где лежит папка с пользователем). В качестве ответа укажите сумму по колонке quantity."
   ]
  },
  {
   "cell_type": "code",
   "execution_count": null,
   "id": "8e9196d9-ce75-47ae-ae84-5689723f9f98",
   "metadata": {},
   "outputs": [],
   "source": [
    "os.listdir('/mnt/HC_Volume_18315164/home-jupyter/jupyter-t-pitsuev/Shared/homeworks/python_ds_miniprojects/4/data')"
   ]
  },
  {
   "cell_type": "code",
   "execution_count": null,
   "id": "0c2a7560-81d8-4370-8471-f1e6f5298cca",
   "metadata": {},
   "outputs": [],
   "source": [
    "# C помощью функции os.walk просматриваю поэтапно все подпапки и файлы в указанной в качестве параметра директории\n",
    "tree=os.walk('/mnt/HC_Volume_18315164/home-jupyter/jupyter-t-pitsuev/Shared/homeworks/python_ds_miniprojects/4/data')\n",
    "\n",
    "\n",
    "# path, directories (folders), files\n",
    "for item in tree:\n",
    "    print(item)"
   ]
  },
  {
   "cell_type": "code",
   "execution_count": null,
   "id": "7c399169-2329-4a4f-8297-4cba0dd37039",
   "metadata": {},
   "outputs": [],
   "source": [
    "tree=os.walk('/mnt/HC_Volume_18315164/home-jupyter/jupyter-t-pitsuev/Shared/homeworks/python_ds_miniprojects/4/data')\n",
    "data_files=[]\n",
    "target_file='data.csv'\n",
    "\n",
    "# путь, папки, файлы\n",
    "for item in tree:\n",
    "    files=item[-1] #взяли последний элемент из кортежа выше\n",
    " \n",
    "    # если папка содержит файлы и первый файл data.csv\n",
    "    if len(files) > 0 and target_file in files:\n",
    "        path=os.path.join(item[0],target_file)\n",
    "        data_files.append(path)\n"
   ]
  },
  {
   "cell_type": "code",
   "execution_count": null,
   "id": "5bd4d4f0-bb21-47e7-a72f-d7840fa913b9",
   "metadata": {},
   "outputs": [],
   "source": [
    "data_files"
   ]
  },
  {
   "cell_type": "code",
   "execution_count": null,
   "id": "eb644c89-6bb3-4f03-b9e9-009d81dfb57d",
   "metadata": {},
   "outputs": [],
   "source": [
    "data_files_df=[]\n",
    " \n",
    "for path in data_files:\n",
    "    df=pd.read_csv(path,index_col=0)\n",
    "    \n",
    "    # выбираем из названия пути только дату и имя\n",
    "    date,name=path.split('/')[10:12]\n",
    "    \n",
    "    # добавляем к датафрейму столбцы date и name\n",
    "    df['date']=date \n",
    "    df['name']=name\n",
    "    \n",
    "    data_files_df.append(df)"
   ]
  },
  {
   "cell_type": "code",
   "execution_count": null,
   "id": "26dd29ec-32e4-4fa9-8fba-602f4a23f775",
   "metadata": {},
   "outputs": [],
   "source": [
    "data_files_df[0].head()"
   ]
  },
  {
   "cell_type": "markdown",
   "id": "e62e01c0",
   "metadata": {},
   "source": [
    "#### Объединение в один датафрейм"
   ]
  },
  {
   "cell_type": "code",
   "execution_count": null,
   "id": "61b8e69b-b126-49fa-88df-6374ebed64e4",
   "metadata": {},
   "outputs": [],
   "source": [
    "data=pd.concat(data_files_df,ignore_index=True)"
   ]
  },
  {
   "cell_type": "code",
   "execution_count": null,
   "id": "5faf0c6f-e97a-4394-bdaf-7d7adc07ed7a",
   "metadata": {},
   "outputs": [],
   "source": [
    "data"
   ]
  },
  {
   "cell_type": "code",
   "execution_count": null,
   "id": "9147de0a-b47e-4a02-b7c4-aa91d243b088",
   "metadata": {},
   "outputs": [],
   "source": [
    "data.to_csv('unite_df')"
   ]
  },
  {
   "cell_type": "code",
   "execution_count": 4,
   "id": "1867b1b8",
   "metadata": {},
   "outputs": [],
   "source": [
    "df = pd.read_csv('C:/Users/Pizzu/DA_course/Python_projects/Product_sales_analysis/unite_df')"
   ]
  },
  {
   "cell_type": "markdown",
   "id": "f877e4f2",
   "metadata": {},
   "source": [
    "### Вопрос 2: Выясните, какой пользователь купил больше всего товаров. Если их несколько, то перечислите имена через запятую с пробелом и в алфавитном порядке.Например: Anatoly_Karpov, Nekto_Ktotovich, Lena_Uhanova, Ignat, Sasha_Tokarev"
   ]
  },
  {
   "cell_type": "code",
   "execution_count": 5,
   "id": "05e12f07-9d8a-494c-8394-a8d8633f8f5b",
   "metadata": {},
   "outputs": [
    {
     "data": {
      "text/html": [
       "<div>\n",
       "<style scoped>\n",
       "    .dataframe tbody tr th:only-of-type {\n",
       "        vertical-align: middle;\n",
       "    }\n",
       "\n",
       "    .dataframe tbody tr th {\n",
       "        vertical-align: top;\n",
       "    }\n",
       "\n",
       "    .dataframe thead th {\n",
       "        text-align: right;\n",
       "    }\n",
       "</style>\n",
       "<table border=\"1\" class=\"dataframe\">\n",
       "  <thead>\n",
       "    <tr style=\"text-align: right;\">\n",
       "      <th></th>\n",
       "      <th>name</th>\n",
       "      <th>quantity</th>\n",
       "    </tr>\n",
       "  </thead>\n",
       "  <tbody>\n",
       "    <tr>\n",
       "      <th>3</th>\n",
       "      <td>Alexey_Smirnov</td>\n",
       "      <td>52</td>\n",
       "    </tr>\n",
       "    <tr>\n",
       "      <th>13</th>\n",
       "      <td>Petr_Smirnov</td>\n",
       "      <td>52</td>\n",
       "    </tr>\n",
       "    <tr>\n",
       "      <th>6</th>\n",
       "      <td>Anton_Smirnov</td>\n",
       "      <td>45</td>\n",
       "    </tr>\n",
       "    <tr>\n",
       "      <th>10</th>\n",
       "      <td>Petr_Fedorov</td>\n",
       "      <td>34</td>\n",
       "    </tr>\n",
       "    <tr>\n",
       "      <th>7</th>\n",
       "      <td>Kirill_Fedorov</td>\n",
       "      <td>28</td>\n",
       "    </tr>\n",
       "    <tr>\n",
       "      <th>16</th>\n",
       "      <td>Rostislav_Petrov</td>\n",
       "      <td>28</td>\n",
       "    </tr>\n",
       "    <tr>\n",
       "      <th>19</th>\n",
       "      <td>Vasiliy_Ivanov</td>\n",
       "      <td>27</td>\n",
       "    </tr>\n",
       "    <tr>\n",
       "      <th>0</th>\n",
       "      <td>Alexey_Fedorov</td>\n",
       "      <td>24</td>\n",
       "    </tr>\n",
       "    <tr>\n",
       "      <th>4</th>\n",
       "      <td>Anton_Ivanov</td>\n",
       "      <td>23</td>\n",
       "    </tr>\n",
       "    <tr>\n",
       "      <th>11</th>\n",
       "      <td>Petr_Ivanov</td>\n",
       "      <td>21</td>\n",
       "    </tr>\n",
       "    <tr>\n",
       "      <th>5</th>\n",
       "      <td>Anton_Petrov</td>\n",
       "      <td>18</td>\n",
       "    </tr>\n",
       "    <tr>\n",
       "      <th>9</th>\n",
       "      <td>Kirill_Smirnov</td>\n",
       "      <td>17</td>\n",
       "    </tr>\n",
       "    <tr>\n",
       "      <th>1</th>\n",
       "      <td>Alexey_Ivanov</td>\n",
       "      <td>17</td>\n",
       "    </tr>\n",
       "    <tr>\n",
       "      <th>17</th>\n",
       "      <td>Rostislav_Smirnov</td>\n",
       "      <td>17</td>\n",
       "    </tr>\n",
       "    <tr>\n",
       "      <th>14</th>\n",
       "      <td>Rostislav_Fedorov</td>\n",
       "      <td>16</td>\n",
       "    </tr>\n",
       "    <tr>\n",
       "      <th>18</th>\n",
       "      <td>Vasiliy_Fedorov</td>\n",
       "      <td>15</td>\n",
       "    </tr>\n",
       "    <tr>\n",
       "      <th>12</th>\n",
       "      <td>Petr_Petrov</td>\n",
       "      <td>14</td>\n",
       "    </tr>\n",
       "    <tr>\n",
       "      <th>8</th>\n",
       "      <td>Kirill_Petrov</td>\n",
       "      <td>9</td>\n",
       "    </tr>\n",
       "    <tr>\n",
       "      <th>15</th>\n",
       "      <td>Rostislav_Ivanov</td>\n",
       "      <td>9</td>\n",
       "    </tr>\n",
       "    <tr>\n",
       "      <th>2</th>\n",
       "      <td>Alexey_Petrov</td>\n",
       "      <td>7</td>\n",
       "    </tr>\n",
       "    <tr>\n",
       "      <th>20</th>\n",
       "      <td>Vasiliy_Petrov</td>\n",
       "      <td>7</td>\n",
       "    </tr>\n",
       "  </tbody>\n",
       "</table>\n",
       "</div>"
      ],
      "text/plain": [
       "                 name  quantity\n",
       "3      Alexey_Smirnov        52\n",
       "13       Petr_Smirnov        52\n",
       "6       Anton_Smirnov        45\n",
       "10       Petr_Fedorov        34\n",
       "7      Kirill_Fedorov        28\n",
       "16   Rostislav_Petrov        28\n",
       "19     Vasiliy_Ivanov        27\n",
       "0      Alexey_Fedorov        24\n",
       "4        Anton_Ivanov        23\n",
       "11        Petr_Ivanov        21\n",
       "5        Anton_Petrov        18\n",
       "9      Kirill_Smirnov        17\n",
       "1       Alexey_Ivanov        17\n",
       "17  Rostislav_Smirnov        17\n",
       "14  Rostislav_Fedorov        16\n",
       "18    Vasiliy_Fedorov        15\n",
       "12        Petr_Petrov        14\n",
       "8       Kirill_Petrov         9\n",
       "15   Rostislav_Ivanov         9\n",
       "2       Alexey_Petrov         7\n",
       "20     Vasiliy_Petrov         7"
      ]
     },
     "execution_count": 5,
     "metadata": {},
     "output_type": "execute_result"
    }
   ],
   "source": [
    "df.groupby('name', as_index = False).agg({'quantity':'sum'}).sort_values('quantity', ascending=False)"
   ]
  },
  {
   "cell_type": "markdown",
   "id": "045e2338",
   "metadata": {},
   "source": [
    "#### Ответ: Alexey_Smirnov, Petr_Smirnov"
   ]
  },
  {
   "cell_type": "markdown",
   "id": "3efcd150",
   "metadata": {},
   "source": [
    "### Вопрос 3: Найдите топ-10 товаров по числу проданных единиц за всё время и постройте барплот (столбчатую диаграмму, sns.barplot), где:\n",
    "- по оси x – идентификаторы товаров (product_id)\n",
    "- по оси y – суммарное число их покупок (сколько товаров с таким product_id было продано)\n",
    "\n",
    "### Для практики попробуйте изменить параметры графика: цвет (color), прозрачность (alpha), сортировку значений по оси х (order). \n"
   ]
  },
  {
   "cell_type": "code",
   "execution_count": 9,
   "id": "2653271f-58ba-4524-98a8-81e3be61bfae",
   "metadata": {},
   "outputs": [],
   "source": [
    "top_ten = df.groupby('product_id', as_index = False).agg({'quantity':'sum'}).sort_values('quantity', ascending=False).head(10)"
   ]
  },
  {
   "cell_type": "code",
   "execution_count": 10,
   "id": "2a8a0deb-7421-46ef-9d1e-17aa270a472a",
   "metadata": {},
   "outputs": [
    {
     "data": {
      "text/html": [
       "<div>\n",
       "<style scoped>\n",
       "    .dataframe tbody tr th:only-of-type {\n",
       "        vertical-align: middle;\n",
       "    }\n",
       "\n",
       "    .dataframe tbody tr th {\n",
       "        vertical-align: top;\n",
       "    }\n",
       "\n",
       "    .dataframe thead th {\n",
       "        text-align: right;\n",
       "    }\n",
       "</style>\n",
       "<table border=\"1\" class=\"dataframe\">\n",
       "  <thead>\n",
       "    <tr style=\"text-align: right;\">\n",
       "      <th></th>\n",
       "      <th>product_id</th>\n",
       "      <th>quantity</th>\n",
       "    </tr>\n",
       "  </thead>\n",
       "  <tbody>\n",
       "    <tr>\n",
       "      <th>22</th>\n",
       "      <td>27</td>\n",
       "      <td>20</td>\n",
       "    </tr>\n",
       "    <tr>\n",
       "      <th>42</th>\n",
       "      <td>56</td>\n",
       "      <td>18</td>\n",
       "    </tr>\n",
       "    <tr>\n",
       "      <th>21</th>\n",
       "      <td>24</td>\n",
       "      <td>15</td>\n",
       "    </tr>\n",
       "    <tr>\n",
       "      <th>51</th>\n",
       "      <td>74</td>\n",
       "      <td>15</td>\n",
       "    </tr>\n",
       "    <tr>\n",
       "      <th>32</th>\n",
       "      <td>41</td>\n",
       "      <td>14</td>\n",
       "    </tr>\n",
       "    <tr>\n",
       "      <th>27</th>\n",
       "      <td>34</td>\n",
       "      <td>13</td>\n",
       "    </tr>\n",
       "    <tr>\n",
       "      <th>66</th>\n",
       "      <td>94</td>\n",
       "      <td>13</td>\n",
       "    </tr>\n",
       "    <tr>\n",
       "      <th>46</th>\n",
       "      <td>66</td>\n",
       "      <td>13</td>\n",
       "    </tr>\n",
       "    <tr>\n",
       "      <th>65</th>\n",
       "      <td>92</td>\n",
       "      <td>12</td>\n",
       "    </tr>\n",
       "    <tr>\n",
       "      <th>38</th>\n",
       "      <td>50</td>\n",
       "      <td>12</td>\n",
       "    </tr>\n",
       "  </tbody>\n",
       "</table>\n",
       "</div>"
      ],
      "text/plain": [
       "    product_id  quantity\n",
       "22          27        20\n",
       "42          56        18\n",
       "21          24        15\n",
       "51          74        15\n",
       "32          41        14\n",
       "27          34        13\n",
       "66          94        13\n",
       "46          66        13\n",
       "65          92        12\n",
       "38          50        12"
      ]
     },
     "execution_count": 10,
     "metadata": {},
     "output_type": "execute_result"
    }
   ],
   "source": [
    "top_ten"
   ]
  },
  {
   "cell_type": "code",
   "execution_count": 15,
   "id": "b14d1cac-24d6-486b-ae4e-47f973e888a8",
   "metadata": {},
   "outputs": [
    {
     "data": {
      "text/plain": [
       "Text(0.5, 1.0, 'Топ-10 покупаемых товаров')"
      ]
     },
     "execution_count": 15,
     "metadata": {},
     "output_type": "execute_result"
    },
    {
     "data": {
      "image/png": "[encoded data removed]",
      "text/plain": [
       "<Figure size 1700x500 with 1 Axes>"
      ]
     },
     "metadata": {},
     "output_type": "display_data"
    }
   ],
   "source": [
    "fig, ax = plt.subplots(figsize =(17, 5))\n",
    "sns.barplot(data=top_ten, x='product_id',y='quantity',\n",
    "           order=top_ten.sort_values('quantity',ascending=False).product_id, ax=ax)\n",
    "\n",
    "ax.set_title('Топ-10 покупаемых товаров')"
   ]
  },
  {
   "cell_type": "markdown",
   "id": "aa20541f",
   "metadata": {},
   "source": [
    "### Вопрос 4: Посмотрим на продажи по дням! Для визуализации снова используйте барплот, только теперь по оси x будут дни, по которым у нас есть данные (date). Верные утверждения:"
   ]
  },
  {
   "cell_type": "code",
   "execution_count": 21,
   "id": "66ab0c2b-837f-4591-9877-9d3939f7da42",
   "metadata": {},
   "outputs": [],
   "source": [
    "top_days=df.groupby('date',as_index=False).quantity.sum().sort_values('date')"
   ]
  },
  {
   "cell_type": "code",
   "execution_count": 22,
   "id": "af9fb9d8-fceb-40bf-b946-bda18f567ce3",
   "metadata": {},
   "outputs": [
    {
     "data": {
      "text/html": [
       "<div>\n",
       "<style scoped>\n",
       "    .dataframe tbody tr th:only-of-type {\n",
       "        vertical-align: middle;\n",
       "    }\n",
       "\n",
       "    .dataframe tbody tr th {\n",
       "        vertical-align: top;\n",
       "    }\n",
       "\n",
       "    .dataframe thead th {\n",
       "        text-align: right;\n",
       "    }\n",
       "</style>\n",
       "<table border=\"1\" class=\"dataframe\">\n",
       "  <thead>\n",
       "    <tr style=\"text-align: right;\">\n",
       "      <th></th>\n",
       "      <th>date</th>\n",
       "      <th>quantity</th>\n",
       "    </tr>\n",
       "  </thead>\n",
       "  <tbody>\n",
       "    <tr>\n",
       "      <th>0</th>\n",
       "      <td>2020-12-03</td>\n",
       "      <td>60</td>\n",
       "    </tr>\n",
       "    <tr>\n",
       "      <th>1</th>\n",
       "      <td>2020-12-04</td>\n",
       "      <td>113</td>\n",
       "    </tr>\n",
       "    <tr>\n",
       "      <th>2</th>\n",
       "      <td>2020-12-05</td>\n",
       "      <td>61</td>\n",
       "    </tr>\n",
       "    <tr>\n",
       "      <th>3</th>\n",
       "      <td>2020-12-06</td>\n",
       "      <td>15</td>\n",
       "    </tr>\n",
       "    <tr>\n",
       "      <th>4</th>\n",
       "      <td>2020-12-07</td>\n",
       "      <td>94</td>\n",
       "    </tr>\n",
       "    <tr>\n",
       "      <th>5</th>\n",
       "      <td>2020-12-08</td>\n",
       "      <td>68</td>\n",
       "    </tr>\n",
       "    <tr>\n",
       "      <th>6</th>\n",
       "      <td>2020-12-09</td>\n",
       "      <td>69</td>\n",
       "    </tr>\n",
       "  </tbody>\n",
       "</table>\n",
       "</div>"
      ],
      "text/plain": [
       "         date  quantity\n",
       "0  2020-12-03        60\n",
       "1  2020-12-04       113\n",
       "2  2020-12-05        61\n",
       "3  2020-12-06        15\n",
       "4  2020-12-07        94\n",
       "5  2020-12-08        68\n",
       "6  2020-12-09        69"
      ]
     },
     "execution_count": 22,
     "metadata": {},
     "output_type": "execute_result"
    }
   ],
   "source": [
    "top_days"
   ]
  },
  {
   "cell_type": "code",
   "execution_count": 23,
   "id": "2ed711a4-85e6-4dd7-9f45-9a01cd57210c",
   "metadata": {},
   "outputs": [
    {
     "data": {
      "text/plain": [
       "Text(0.5, 1.0, 'Покупки по дням')"
      ]
     },
     "execution_count": 23,
     "metadata": {},
     "output_type": "execute_result"
    },
    {
     "data": {
      "image/png": "[encoded data removed]",
      "text/plain": [
       "<Figure size 1000x500 with 1 Axes>"
      ]
     },
     "metadata": {},
     "output_type": "display_data"
    }
   ],
   "source": [
    "fig, ax = plt.subplots(figsize=(10, 5))\n",
    "sns.barplot(data=top_days, x='date',y='quantity')\n",
    "ax.tick_params(axis='x',rotation=45)\n",
    "\n",
    "\n",
    "ax.set_title('Покупки по дням') \n"
   ]
  },
  {
   "cell_type": "code",
   "execution_count": 25,
   "id": "5ba01fa8-c2f7-4a77-8412-dd9865e43a28",
   "metadata": {},
   "outputs": [
    {
     "data": {
      "text/html": [
       "<div>\n",
       "<style scoped>\n",
       "    .dataframe tbody tr th:only-of-type {\n",
       "        vertical-align: middle;\n",
       "    }\n",
       "\n",
       "    .dataframe tbody tr th {\n",
       "        vertical-align: top;\n",
       "    }\n",
       "\n",
       "    .dataframe thead th {\n",
       "        text-align: right;\n",
       "    }\n",
       "</style>\n",
       "<table border=\"1\" class=\"dataframe\">\n",
       "  <thead>\n",
       "    <tr style=\"text-align: right;\">\n",
       "      <th></th>\n",
       "      <th>Unnamed: 0</th>\n",
       "      <th>product_id</th>\n",
       "      <th>quantity</th>\n",
       "      <th>date</th>\n",
       "      <th>name</th>\n",
       "    </tr>\n",
       "  </thead>\n",
       "  <tbody>\n",
       "    <tr>\n",
       "      <th>0</th>\n",
       "      <td>0</td>\n",
       "      <td>27</td>\n",
       "      <td>4</td>\n",
       "      <td>2020-12-05</td>\n",
       "      <td>Petr_Ivanov</td>\n",
       "    </tr>\n",
       "    <tr>\n",
       "      <th>1</th>\n",
       "      <td>1</td>\n",
       "      <td>89</td>\n",
       "      <td>1</td>\n",
       "      <td>2020-12-05</td>\n",
       "      <td>Petr_Ivanov</td>\n",
       "    </tr>\n",
       "    <tr>\n",
       "      <th>2</th>\n",
       "      <td>2</td>\n",
       "      <td>33</td>\n",
       "      <td>2</td>\n",
       "      <td>2020-12-05</td>\n",
       "      <td>Petr_Ivanov</td>\n",
       "    </tr>\n",
       "    <tr>\n",
       "      <th>3</th>\n",
       "      <td>3</td>\n",
       "      <td>8</td>\n",
       "      <td>3</td>\n",
       "      <td>2020-12-05</td>\n",
       "      <td>Petr_Ivanov</td>\n",
       "    </tr>\n",
       "    <tr>\n",
       "      <th>4</th>\n",
       "      <td>4</td>\n",
       "      <td>16</td>\n",
       "      <td>1</td>\n",
       "      <td>2020-12-05</td>\n",
       "      <td>Petr_Ivanov</td>\n",
       "    </tr>\n",
       "  </tbody>\n",
       "</table>\n",
       "</div>"
      ],
      "text/plain": [
       "   Unnamed: 0  product_id  quantity        date         name\n",
       "0           0          27         4  2020-12-05  Petr_Ivanov\n",
       "1           1          89         1  2020-12-05  Petr_Ivanov\n",
       "2           2          33         2  2020-12-05  Petr_Ivanov\n",
       "3           3           8         3  2020-12-05  Petr_Ivanov\n",
       "4           4          16         1  2020-12-05  Petr_Ivanov"
      ]
     },
     "execution_count": 25,
     "metadata": {},
     "output_type": "execute_result"
    }
   ],
   "source": [
    "df.head()"
   ]
  },
  {
   "cell_type": "code",
   "execution_count": 27,
   "id": "1b54bd3b-5d70-495f-b0e0-ed063e54606f",
   "metadata": {},
   "outputs": [],
   "source": [
    "five_ex=df.groupby('date',as_index=False).quantity.sum()"
   ]
  },
  {
   "cell_type": "code",
   "execution_count": 28,
   "id": "c55a1c6b-5a4c-481b-af8d-a27a249998e8",
   "metadata": {},
   "outputs": [
    {
     "data": {
      "text/plain": [
       "Text(0.5, 1.0, 'Покупки по дням')"
      ]
     },
     "execution_count": 28,
     "metadata": {},
     "output_type": "execute_result"
    },
    {
     "data": {
      "image/png": "[encoded data removed]",
      "text/plain": [
       "<Figure size 1000x500 with 1 Axes>"
      ]
     },
     "metadata": {},
     "output_type": "display_data"
    }
   ],
   "source": [
    "fig, ax = plt.subplots(figsize=(10, 5))\n",
    "sns.barplot(data=five_ex, x='date',y='quantity',\n",
    "           order=five_ex.date,ax=ax)\n",
    "\n",
    "ax.tick_params(axis='x',rotation=45) # сделали метки дат под наклоном\n",
    "ax.set_title('Покупки по дням') # сделали заголовок для диаграммы \n"
   ]
  },
  {
   "cell_type": "markdown",
   "id": "f9904c47",
   "metadata": {},
   "source": [
    "#### Выводы: \n",
    "\n",
    "- 4 декабря было куплено почти в два раза больше товаров, чем в предыдущий день\n",
    "- Меньше всего товаров было приобретено 6 декабря\n",
    "- Максимальное число товаров было продано 4 декабря\n",
    "- 8 и 9 декабря было продано примерно одинаковое число товаров"
   ]
  },
  {
   "cell_type": "markdown",
   "id": "17e14dc8",
   "metadata": {},
   "source": [
    "### Вопрос 5: Сколько пользователей приобрели какой-либо товар повторно (более 1 раза)? Повтором будем считать покупку товара с одинаковым product_id, совершенную в разные дни. \n"
   ]
  },
  {
   "cell_type": "markdown",
   "id": "3bf93b0f",
   "metadata": {},
   "source": [
    "#### Удалил дубликаты, строки в которых все значения совпадают"
   ]
  },
  {
   "cell_type": "code",
   "execution_count": 31,
   "id": "5e230361-5b63-4f4c-9be0-279e34ddac41",
   "metadata": {},
   "outputs": [
    {
     "data": {
      "text/html": [
       "<div>\n",
       "<style scoped>\n",
       "    .dataframe tbody tr th:only-of-type {\n",
       "        vertical-align: middle;\n",
       "    }\n",
       "\n",
       "    .dataframe tbody tr th {\n",
       "        vertical-align: top;\n",
       "    }\n",
       "\n",
       "    .dataframe thead th {\n",
       "        text-align: right;\n",
       "    }\n",
       "</style>\n",
       "<table border=\"1\" class=\"dataframe\">\n",
       "  <thead>\n",
       "    <tr style=\"text-align: right;\">\n",
       "      <th></th>\n",
       "      <th>Unnamed: 0</th>\n",
       "      <th>product_id</th>\n",
       "      <th>quantity</th>\n",
       "      <th>date</th>\n",
       "      <th>name</th>\n",
       "    </tr>\n",
       "  </thead>\n",
       "  <tbody>\n",
       "    <tr>\n",
       "      <th>0</th>\n",
       "      <td>0</td>\n",
       "      <td>27</td>\n",
       "      <td>4</td>\n",
       "      <td>2020-12-05</td>\n",
       "      <td>Petr_Ivanov</td>\n",
       "    </tr>\n",
       "    <tr>\n",
       "      <th>1</th>\n",
       "      <td>1</td>\n",
       "      <td>89</td>\n",
       "      <td>1</td>\n",
       "      <td>2020-12-05</td>\n",
       "      <td>Petr_Ivanov</td>\n",
       "    </tr>\n",
       "    <tr>\n",
       "      <th>2</th>\n",
       "      <td>2</td>\n",
       "      <td>33</td>\n",
       "      <td>2</td>\n",
       "      <td>2020-12-05</td>\n",
       "      <td>Petr_Ivanov</td>\n",
       "    </tr>\n",
       "    <tr>\n",
       "      <th>3</th>\n",
       "      <td>3</td>\n",
       "      <td>8</td>\n",
       "      <td>3</td>\n",
       "      <td>2020-12-05</td>\n",
       "      <td>Petr_Ivanov</td>\n",
       "    </tr>\n",
       "    <tr>\n",
       "      <th>4</th>\n",
       "      <td>4</td>\n",
       "      <td>16</td>\n",
       "      <td>1</td>\n",
       "      <td>2020-12-05</td>\n",
       "      <td>Petr_Ivanov</td>\n",
       "    </tr>\n",
       "    <tr>\n",
       "      <th>...</th>\n",
       "      <td>...</td>\n",
       "      <td>...</td>\n",
       "      <td>...</td>\n",
       "      <td>...</td>\n",
       "      <td>...</td>\n",
       "    </tr>\n",
       "    <tr>\n",
       "      <th>156</th>\n",
       "      <td>156</td>\n",
       "      <td>18</td>\n",
       "      <td>4</td>\n",
       "      <td>2020-12-07</td>\n",
       "      <td>Petr_Fedorov</td>\n",
       "    </tr>\n",
       "    <tr>\n",
       "      <th>157</th>\n",
       "      <td>157</td>\n",
       "      <td>94</td>\n",
       "      <td>4</td>\n",
       "      <td>2020-12-07</td>\n",
       "      <td>Petr_Fedorov</td>\n",
       "    </tr>\n",
       "    <tr>\n",
       "      <th>158</th>\n",
       "      <td>158</td>\n",
       "      <td>95</td>\n",
       "      <td>2</td>\n",
       "      <td>2020-12-07</td>\n",
       "      <td>Vasiliy_Ivanov</td>\n",
       "    </tr>\n",
       "    <tr>\n",
       "      <th>159</th>\n",
       "      <td>159</td>\n",
       "      <td>83</td>\n",
       "      <td>3</td>\n",
       "      <td>2020-12-07</td>\n",
       "      <td>Vasiliy_Ivanov</td>\n",
       "    </tr>\n",
       "    <tr>\n",
       "      <th>160</th>\n",
       "      <td>160</td>\n",
       "      <td>64</td>\n",
       "      <td>1</td>\n",
       "      <td>2020-12-07</td>\n",
       "      <td>Vasiliy_Ivanov</td>\n",
       "    </tr>\n",
       "  </tbody>\n",
       "</table>\n",
       "<p>161 rows × 5 columns</p>\n",
       "</div>"
      ],
      "text/plain": [
       "     Unnamed: 0  product_id  quantity        date            name\n",
       "0             0          27         4  2020-12-05     Petr_Ivanov\n",
       "1             1          89         1  2020-12-05     Petr_Ivanov\n",
       "2             2          33         2  2020-12-05     Petr_Ivanov\n",
       "3             3           8         3  2020-12-05     Petr_Ivanov\n",
       "4             4          16         1  2020-12-05     Petr_Ivanov\n",
       "..          ...         ...       ...         ...             ...\n",
       "156         156          18         4  2020-12-07    Petr_Fedorov\n",
       "157         157          94         4  2020-12-07    Petr_Fedorov\n",
       "158         158          95         2  2020-12-07  Vasiliy_Ivanov\n",
       "159         159          83         3  2020-12-07  Vasiliy_Ivanov\n",
       "160         160          64         1  2020-12-07  Vasiliy_Ivanov\n",
       "\n",
       "[161 rows x 5 columns]"
      ]
     },
     "execution_count": 31,
     "metadata": {},
     "output_type": "execute_result"
    }
   ],
   "source": [
    "df.drop_duplicates()"
   ]
  },
  {
   "cell_type": "code",
   "execution_count": 32,
   "id": "677f2ad6-7940-4f5a-99ef-939e23948976",
   "metadata": {},
   "outputs": [
    {
     "data": {
      "text/plain": [
       "name            product_id\n",
       "Anton_Ivanov    15            2\n",
       "Petr_Fedorov    94            2\n",
       "Alexey_Fedorov  13            1\n",
       "Petr_Smirnov    21            1\n",
       "Petr_Petrov     64            1\n",
       "                             ..\n",
       "Anton_Smirnov   28            1\n",
       "                33            1\n",
       "                34            1\n",
       "                40            1\n",
       "Vasiliy_Petrov  78            1\n",
       "Name: date, Length: 158, dtype: int64"
      ]
     },
     "execution_count": 32,
     "metadata": {},
     "output_type": "execute_result"
    }
   ],
   "source": [
    "df.groupby(['name','product_id']).date.nunique().sort_values(ascending=False)"
   ]
  },
  {
   "cell_type": "code",
   "execution_count": 33,
   "id": "fd116c7c-e956-43d6-8a54-3341535f741e",
   "metadata": {},
   "outputs": [],
   "source": [
    "unique_prod=df.groupby(['name','product_id']).date.nunique().sort_values(ascending=False)"
   ]
  },
  {
   "cell_type": "code",
   "execution_count": 34,
   "id": "cedd9938-9659-4e96-b798-8f3ac76d9460",
   "metadata": {},
   "outputs": [
    {
     "data": {
      "text/plain": [
       "name            product_id\n",
       "Anton_Ivanov    15            2\n",
       "Petr_Fedorov    94            2\n",
       "Alexey_Fedorov  13            1\n",
       "Petr_Smirnov    21            1\n",
       "Petr_Petrov     64            1\n",
       "                             ..\n",
       "Anton_Smirnov   28            1\n",
       "                33            1\n",
       "                34            1\n",
       "                40            1\n",
       "Vasiliy_Petrov  78            1\n",
       "Name: date, Length: 158, dtype: int64"
      ]
     },
     "execution_count": 34,
     "metadata": {},
     "output_type": "execute_result"
    }
   ],
   "source": [
    "unique_prod"
   ]
  },
  {
   "cell_type": "code",
   "execution_count": 35,
   "id": "d7a00cd9-fbcc-465c-8302-97ff743055e1",
   "metadata": {},
   "outputs": [
    {
     "data": {
      "text/plain": [
       "name          product_id\n",
       "Anton_Ivanov  15            2\n",
       "Petr_Fedorov  94            2\n",
       "Name: date, dtype: int64"
      ]
     },
     "execution_count": 35,
     "metadata": {},
     "output_type": "execute_result"
    }
   ],
   "source": [
    "unique_prod.loc[unique_prod>1]"
   ]
  },
  {
   "cell_type": "markdown",
   "id": "33328570",
   "metadata": {},
   "source": [
    "#### Ответ: 2 пользователя"
   ]
  }
 ],
 "metadata": {
  "kernelspec": {
   "display_name": "Python 3 (ipykernel)",
   "language": "python",
   "name": "python3"
  },
  "language_info": {
   "codemirror_mode": {
    "name": "ipython",
    "version": 3
   },
   "file_extension": ".py",
   "mimetype": "text/x-python",
   "name": "python",
   "nbconvert_exporter": "python",
   "pygments_lexer": "ipython3",
   "version": "3.9.13"
  }
 },
 "nbformat": 4,
 "nbformat_minor": 5
}
