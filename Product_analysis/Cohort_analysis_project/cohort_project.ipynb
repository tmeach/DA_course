{
 "cells": [
  {
   "cell_type": "markdown",
   "id": "38f0686f-9426-4abb-b772-4b3a9c7d2a78",
   "metadata": {},
   "source": [
    "#### Импортирую библиотеки"
   ]
  },
  {
   "cell_type": "code",
   "execution_count": 28,
   "id": "918db1a4-189b-4989-8040-e10d3a0a6c24",
   "metadata": {},
   "outputs": [],
   "source": [
    "import pandas as pd"
   ]
  },
  {
   "cell_type": "markdown",
   "id": "a7e0464f-7749-4349-9f44-e711e4381303",
   "metadata": {},
   "source": [
    "#### Загружаю таблицу"
   ]
  },
  {
   "cell_type": "code",
   "execution_count": 29,
   "id": "68382fb9-10e3-489f-b1f6-f21c1f47ac42",
   "metadata": {},
   "outputs": [],
   "source": [
    "df = pd.read_csv(\"/home/karpov/Data_analytics_course/Data_analytics_course/Product_analysis/Cohort_analysis/KC_case_data .csv\")"
   ]
  },
  {
   "cell_type": "code",
   "execution_count": 30,
   "id": "60d6402c-3727-4952-9227-302cc87d0b06",
   "metadata": {},
   "outputs": [
    {
     "data": {
      "text/html": [
       "<div>\n",
       "<style scoped>\n",
       "    .dataframe tbody tr th:only-of-type {\n",
       "        vertical-align: middle;\n",
       "    }\n",
       "\n",
       "    .dataframe tbody tr th {\n",
       "        vertical-align: top;\n",
       "    }\n",
       "\n",
       "    .dataframe thead th {\n",
       "        text-align: right;\n",
       "    }\n",
       "</style>\n",
       "<table border=\"1\" class=\"dataframe\">\n",
       "  <thead>\n",
       "    <tr style=\"text-align: right;\">\n",
       "      <th></th>\n",
       "      <th>date</th>\n",
       "      <th>event</th>\n",
       "      <th>purchase_sum</th>\n",
       "      <th>os_name</th>\n",
       "      <th>device_id</th>\n",
       "      <th>gender</th>\n",
       "      <th>city</th>\n",
       "      <th>utm_source</th>\n",
       "    </tr>\n",
       "  </thead>\n",
       "  <tbody>\n",
       "    <tr>\n",
       "      <th>0</th>\n",
       "      <td>2020-01-01</td>\n",
       "      <td>app_start</td>\n",
       "      <td>NaN</td>\n",
       "      <td>android</td>\n",
       "      <td>669460</td>\n",
       "      <td>female</td>\n",
       "      <td>Moscow</td>\n",
       "      <td>-</td>\n",
       "    </tr>\n",
       "    <tr>\n",
       "      <th>1</th>\n",
       "      <td>2020-01-01</td>\n",
       "      <td>app_start</td>\n",
       "      <td>NaN</td>\n",
       "      <td>ios</td>\n",
       "      <td>833621</td>\n",
       "      <td>male</td>\n",
       "      <td>Moscow</td>\n",
       "      <td>vk_ads</td>\n",
       "    </tr>\n",
       "    <tr>\n",
       "      <th>2</th>\n",
       "      <td>2020-01-01</td>\n",
       "      <td>app_start</td>\n",
       "      <td>NaN</td>\n",
       "      <td>android</td>\n",
       "      <td>1579237</td>\n",
       "      <td>male</td>\n",
       "      <td>Saint-Petersburg</td>\n",
       "      <td>referal</td>\n",
       "    </tr>\n",
       "    <tr>\n",
       "      <th>3</th>\n",
       "      <td>2020-01-01</td>\n",
       "      <td>app_start</td>\n",
       "      <td>NaN</td>\n",
       "      <td>android</td>\n",
       "      <td>1737182</td>\n",
       "      <td>female</td>\n",
       "      <td>Moscow</td>\n",
       "      <td>facebook_ads</td>\n",
       "    </tr>\n",
       "    <tr>\n",
       "      <th>4</th>\n",
       "      <td>2020-01-01</td>\n",
       "      <td>app_start</td>\n",
       "      <td>NaN</td>\n",
       "      <td>ios</td>\n",
       "      <td>4029024</td>\n",
       "      <td>female</td>\n",
       "      <td>Moscow</td>\n",
       "      <td>facebook_ads</td>\n",
       "    </tr>\n",
       "  </tbody>\n",
       "</table>\n",
       "</div>"
      ],
      "text/plain": [
       "         date      event  purchase_sum  os_name  device_id  gender  \\\n",
       "0  2020-01-01  app_start           NaN  android     669460  female   \n",
       "1  2020-01-01  app_start           NaN      ios     833621    male   \n",
       "2  2020-01-01  app_start           NaN  android    1579237    male   \n",
       "3  2020-01-01  app_start           NaN  android    1737182  female   \n",
       "4  2020-01-01  app_start           NaN      ios    4029024  female   \n",
       "\n",
       "               city    utm_source  \n",
       "0            Moscow             -  \n",
       "1            Moscow        vk_ads  \n",
       "2  Saint-Petersburg       referal  \n",
       "3            Moscow  facebook_ads  \n",
       "4            Moscow  facebook_ads  "
      ]
     },
     "execution_count": 30,
     "metadata": {},
     "output_type": "execute_result"
    }
   ],
   "source": [
    "df.head()"
   ]
  },
  {
   "cell_type": "code",
   "execution_count": 31,
   "id": "fdd6a76a-44bc-47b3-867c-4396ffe6a92e",
   "metadata": {},
   "outputs": [
    {
     "data": {
      "text/plain": [
       "app_start      748705\n",
       "search         708639\n",
       "choose_item    538669\n",
       "tap_basket     377665\n",
       "app_install    154597\n",
       "purchase       141383\n",
       "register        78310\n",
       "Name: event, dtype: int64"
      ]
     },
     "execution_count": 31,
     "metadata": {},
     "output_type": "execute_result"
    }
   ],
   "source": [
    "df.event.value_counts()"
   ]
  },
  {
   "cell_type": "code",
   "execution_count": 32,
   "id": "9249b350-0234-423c-98a5-57cd37fc00ba",
   "metadata": {},
   "outputs": [
    {
     "data": {
      "text/plain": [
       "'2020-03-31'"
      ]
     },
     "execution_count": 32,
     "metadata": {},
     "output_type": "execute_result"
    }
   ],
   "source": [
    "df.date.max()"
   ]
  },
  {
   "cell_type": "markdown",
   "id": "a4bc2590-4e5b-4d27-bf96-871fb95d2b9e",
   "metadata": {},
   "source": [
    "### Вопрос 1:\n",
    "MAU февраля?"
   ]
  },
  {
   "cell_type": "code",
   "execution_count": 33,
   "id": "ea8127cc-1c66-4901-b88b-1e2874c7be93",
   "metadata": {},
   "outputs": [
    {
     "data": {
      "text/html": [
       "<div>\n",
       "<style scoped>\n",
       "    .dataframe tbody tr th:only-of-type {\n",
       "        vertical-align: middle;\n",
       "    }\n",
       "\n",
       "    .dataframe tbody tr th {\n",
       "        vertical-align: top;\n",
       "    }\n",
       "\n",
       "    .dataframe thead th {\n",
       "        text-align: right;\n",
       "    }\n",
       "</style>\n",
       "<table border=\"1\" class=\"dataframe\">\n",
       "  <thead>\n",
       "    <tr style=\"text-align: right;\">\n",
       "      <th></th>\n",
       "      <th>date</th>\n",
       "      <th>event</th>\n",
       "      <th>purchase_sum</th>\n",
       "      <th>os_name</th>\n",
       "      <th>device_id</th>\n",
       "      <th>gender</th>\n",
       "      <th>city</th>\n",
       "      <th>utm_source</th>\n",
       "    </tr>\n",
       "  </thead>\n",
       "  <tbody>\n",
       "    <tr>\n",
       "      <th>0</th>\n",
       "      <td>2020-01-01</td>\n",
       "      <td>app_start</td>\n",
       "      <td>NaN</td>\n",
       "      <td>android</td>\n",
       "      <td>669460</td>\n",
       "      <td>female</td>\n",
       "      <td>Moscow</td>\n",
       "      <td>-</td>\n",
       "    </tr>\n",
       "    <tr>\n",
       "      <th>1</th>\n",
       "      <td>2020-01-01</td>\n",
       "      <td>app_start</td>\n",
       "      <td>NaN</td>\n",
       "      <td>ios</td>\n",
       "      <td>833621</td>\n",
       "      <td>male</td>\n",
       "      <td>Moscow</td>\n",
       "      <td>vk_ads</td>\n",
       "    </tr>\n",
       "    <tr>\n",
       "      <th>2</th>\n",
       "      <td>2020-01-01</td>\n",
       "      <td>app_start</td>\n",
       "      <td>NaN</td>\n",
       "      <td>android</td>\n",
       "      <td>1579237</td>\n",
       "      <td>male</td>\n",
       "      <td>Saint-Petersburg</td>\n",
       "      <td>referal</td>\n",
       "    </tr>\n",
       "    <tr>\n",
       "      <th>3</th>\n",
       "      <td>2020-01-01</td>\n",
       "      <td>app_start</td>\n",
       "      <td>NaN</td>\n",
       "      <td>android</td>\n",
       "      <td>1737182</td>\n",
       "      <td>female</td>\n",
       "      <td>Moscow</td>\n",
       "      <td>facebook_ads</td>\n",
       "    </tr>\n",
       "    <tr>\n",
       "      <th>4</th>\n",
       "      <td>2020-01-01</td>\n",
       "      <td>app_start</td>\n",
       "      <td>NaN</td>\n",
       "      <td>ios</td>\n",
       "      <td>4029024</td>\n",
       "      <td>female</td>\n",
       "      <td>Moscow</td>\n",
       "      <td>facebook_ads</td>\n",
       "    </tr>\n",
       "  </tbody>\n",
       "</table>\n",
       "</div>"
      ],
      "text/plain": [
       "         date      event  purchase_sum  os_name  device_id  gender  \\\n",
       "0  2020-01-01  app_start           NaN  android     669460  female   \n",
       "1  2020-01-01  app_start           NaN      ios     833621    male   \n",
       "2  2020-01-01  app_start           NaN  android    1579237    male   \n",
       "3  2020-01-01  app_start           NaN  android    1737182  female   \n",
       "4  2020-01-01  app_start           NaN      ios    4029024  female   \n",
       "\n",
       "               city    utm_source  \n",
       "0            Moscow             -  \n",
       "1            Moscow        vk_ads  \n",
       "2  Saint-Petersburg       referal  \n",
       "3            Moscow  facebook_ads  \n",
       "4            Moscow  facebook_ads  "
      ]
     },
     "execution_count": 33,
     "metadata": {},
     "output_type": "execute_result"
    }
   ],
   "source": [
    "df.head()"
   ]
  },
  {
   "cell_type": "code",
   "execution_count": 34,
   "id": "17ef52fd-f549-4cb3-b87b-32ade6397879",
   "metadata": {},
   "outputs": [],
   "source": [
    "ndf=df"
   ]
  },
  {
   "cell_type": "markdown",
   "id": "e52091c6-5be3-4c4c-9013-68481a5ab7bd",
   "metadata": {},
   "source": [
    "Привожу колонку date к формату datetime"
   ]
  },
  {
   "cell_type": "code",
   "execution_count": 35,
   "id": "63e0ba57-34c8-4654-bded-6b782eadb4d4",
   "metadata": {},
   "outputs": [],
   "source": [
    "ndf['date'] = pd.to_datetime(ndf['date'])"
   ]
  },
  {
   "cell_type": "code",
   "execution_count": 36,
   "id": "2103f458-8ffa-4f26-bb69-f3ddb3095cab",
   "metadata": {},
   "outputs": [
    {
     "data": {
      "text/plain": [
       "date            datetime64[ns]\n",
       "event                   object\n",
       "purchase_sum           float64\n",
       "os_name                 object\n",
       "device_id                int64\n",
       "gender                  object\n",
       "city                    object\n",
       "utm_source              object\n",
       "dtype: object"
      ]
     },
     "execution_count": 36,
     "metadata": {},
     "output_type": "execute_result"
    }
   ],
   "source": [
    "ndf.dtypes"
   ]
  },
  {
   "cell_type": "markdown",
   "id": "792485a4-bfa2-4ffe-a03e-3cfe75e3336a",
   "metadata": {},
   "source": [
    "Создаю новую колонку, в которой будет указан месяц из колонки date"
   ]
  },
  {
   "cell_type": "code",
   "execution_count": 37,
   "id": "20e79868-07a0-4aaa-8573-2ede1b4e4e92",
   "metadata": {},
   "outputs": [],
   "source": [
    "ndf['month'] = pd.DatetimeIndex(ndf['date']).month"
   ]
  },
  {
   "cell_type": "code",
   "execution_count": 38,
   "id": "1f3eb946-cd78-4897-9aa7-48e247bcc084",
   "metadata": {},
   "outputs": [
    {
     "data": {
      "text/plain": [
       "date               29\n",
       "event               1\n",
       "purchase_sum        0\n",
       "os_name             2\n",
       "device_id       75032\n",
       "gender              2\n",
       "city                2\n",
       "utm_source          7\n",
       "month               1\n",
       "dtype: int64"
      ]
     },
     "execution_count": 38,
     "metadata": {},
     "output_type": "execute_result"
    }
   ],
   "source": [
    "ndf.query('month==2 & event == \"app_start\"').nunique()"
   ]
  },
  {
   "cell_type": "markdown",
   "id": "0fc8ed96-1118-4a4b-b39c-40fa400f8902",
   "metadata": {},
   "source": [
    "Ответ: MAU февраля: 75032"
   ]
  },
  {
   "cell_type": "markdown",
   "id": "07dd6f24-2167-48b0-aa52-dd25979ba462",
   "metadata": {},
   "source": [
    "### Вопрос 2\n",
    "Количество установок в январе?"
   ]
  },
  {
   "cell_type": "code",
   "execution_count": 39,
   "id": "a2752978-df18-40c8-af1a-fdae47f4e277",
   "metadata": {},
   "outputs": [],
   "source": [
    "ndf_2=df"
   ]
  },
  {
   "cell_type": "markdown",
   "id": "7f20badd-e4a9-4155-81c7-222275478e5e",
   "metadata": {},
   "source": [
    "ndf_2"
   ]
  },
  {
   "cell_type": "code",
   "execution_count": 40,
   "id": "875a6d17-50b3-4e54-9b3b-dbb3e5cd3394",
   "metadata": {},
   "outputs": [
    {
     "data": {
      "text/plain": [
       "app_start      268471\n",
       "search         254732\n",
       "choose_item    196137\n",
       "tap_basket     140616\n",
       "app_install     80297\n",
       "purchase        59208\n",
       "register        42946\n",
       "Name: event, dtype: int64"
      ]
     },
     "execution_count": 40,
     "metadata": {},
     "output_type": "execute_result"
    }
   ],
   "source": [
    "ndf_2.query('month == 1').event.value_counts()"
   ]
  },
  {
   "cell_type": "markdown",
   "id": "68f7e2c5-80cc-4319-9eaa-c06eea3452ac",
   "metadata": {},
   "source": [
    "Ответ: количество установок в январе - 80297"
   ]
  },
  {
   "cell_type": "markdown",
   "id": "979bc73c-9751-4a62-8514-8b69c049e2da",
   "metadata": {},
   "source": [
    "### Вопрос 3\n",
    "Присвойте пользователям когорты по дню установки приложения и посчитайте для них  конверсию из установки в покупку в течение 7 дней. Для какой когорты конверсия была наибольшей? "
   ]
  },
  {
   "cell_type": "code",
   "execution_count": 108,
   "id": "fbba9431-84c5-4d5d-9cf9-5e293e72e208",
   "metadata": {},
   "outputs": [
    {
     "data": {
      "text/html": [
       "<div>\n",
       "<style scoped>\n",
       "    .dataframe tbody tr th:only-of-type {\n",
       "        vertical-align: middle;\n",
       "    }\n",
       "\n",
       "    .dataframe tbody tr th {\n",
       "        vertical-align: top;\n",
       "    }\n",
       "\n",
       "    .dataframe thead th {\n",
       "        text-align: right;\n",
       "    }\n",
       "</style>\n",
       "<table border=\"1\" class=\"dataframe\">\n",
       "  <thead>\n",
       "    <tr style=\"text-align: right;\">\n",
       "      <th></th>\n",
       "      <th>date</th>\n",
       "      <th>event</th>\n",
       "      <th>purchase_sum</th>\n",
       "      <th>os_name</th>\n",
       "      <th>device_id</th>\n",
       "      <th>gender</th>\n",
       "      <th>city</th>\n",
       "      <th>utm_source</th>\n",
       "      <th>month</th>\n",
       "    </tr>\n",
       "  </thead>\n",
       "  <tbody>\n",
       "    <tr>\n",
       "      <th>0</th>\n",
       "      <td>2020-01-01</td>\n",
       "      <td>app_start</td>\n",
       "      <td>NaN</td>\n",
       "      <td>android</td>\n",
       "      <td>669460</td>\n",
       "      <td>female</td>\n",
       "      <td>Moscow</td>\n",
       "      <td>-</td>\n",
       "      <td>1</td>\n",
       "    </tr>\n",
       "    <tr>\n",
       "      <th>1</th>\n",
       "      <td>2020-01-01</td>\n",
       "      <td>app_start</td>\n",
       "      <td>NaN</td>\n",
       "      <td>ios</td>\n",
       "      <td>833621</td>\n",
       "      <td>male</td>\n",
       "      <td>Moscow</td>\n",
       "      <td>vk_ads</td>\n",
       "      <td>1</td>\n",
       "    </tr>\n",
       "    <tr>\n",
       "      <th>2</th>\n",
       "      <td>2020-01-01</td>\n",
       "      <td>app_start</td>\n",
       "      <td>NaN</td>\n",
       "      <td>android</td>\n",
       "      <td>1579237</td>\n",
       "      <td>male</td>\n",
       "      <td>Saint-Petersburg</td>\n",
       "      <td>referal</td>\n",
       "      <td>1</td>\n",
       "    </tr>\n",
       "    <tr>\n",
       "      <th>3</th>\n",
       "      <td>2020-01-01</td>\n",
       "      <td>app_start</td>\n",
       "      <td>NaN</td>\n",
       "      <td>android</td>\n",
       "      <td>1737182</td>\n",
       "      <td>female</td>\n",
       "      <td>Moscow</td>\n",
       "      <td>facebook_ads</td>\n",
       "      <td>1</td>\n",
       "    </tr>\n",
       "    <tr>\n",
       "      <th>4</th>\n",
       "      <td>2020-01-01</td>\n",
       "      <td>app_start</td>\n",
       "      <td>NaN</td>\n",
       "      <td>ios</td>\n",
       "      <td>4029024</td>\n",
       "      <td>female</td>\n",
       "      <td>Moscow</td>\n",
       "      <td>facebook_ads</td>\n",
       "      <td>1</td>\n",
       "    </tr>\n",
       "  </tbody>\n",
       "</table>\n",
       "</div>"
      ],
      "text/plain": [
       "        date      event  purchase_sum  os_name  device_id  gender  \\\n",
       "0 2020-01-01  app_start           NaN  android     669460  female   \n",
       "1 2020-01-01  app_start           NaN      ios     833621    male   \n",
       "2 2020-01-01  app_start           NaN  android    1579237    male   \n",
       "3 2020-01-01  app_start           NaN  android    1737182  female   \n",
       "4 2020-01-01  app_start           NaN      ios    4029024  female   \n",
       "\n",
       "               city    utm_source  month  \n",
       "0            Moscow             -      1  \n",
       "1            Moscow        vk_ads      1  \n",
       "2  Saint-Petersburg       referal      1  \n",
       "3            Moscow  facebook_ads      1  \n",
       "4            Moscow  facebook_ads      1  "
      ]
     },
     "execution_count": 108,
     "metadata": {},
     "output_type": "execute_result"
    }
   ],
   "source": [
    "df.head()"
   ]
  },
  {
   "cell_type": "markdown",
   "id": "8aebc3d3-b6c8-41b2-bbaf-6c6666f60486",
   "metadata": {},
   "source": [
    "Отбираю только события установки приложения (app_install), и колонки date и device_id (удаляю дубликаты), переименовываю колонку date на install_date"
   ]
  },
  {
   "cell_type": "code",
   "execution_count": 109,
   "id": "603abb3b-9750-4c78-96d9-8a11ab4ef9ab",
   "metadata": {},
   "outputs": [],
   "source": [
    "installs = df.query('event == \"app_install\"')[['date', 'device_id']]"
   ]
  },
  {
   "cell_type": "code",
   "execution_count": 110,
   "id": "fa252019-438b-45b9-a699-d9d325a99558",
   "metadata": {},
   "outputs": [],
   "source": [
    "installs=installs.drop_duplicates('device_id')"
   ]
  },
  {
   "cell_type": "code",
   "execution_count": 111,
   "id": "54250c45-0a4b-4306-853e-a364eaeda10e",
   "metadata": {},
   "outputs": [],
   "source": [
    "installs = installs.rename(columns = {'date':'install_date'})"
   ]
  },
  {
   "cell_type": "markdown",
   "id": "4e23f4dc-b60d-4a78-a8f0-8c722affb408",
   "metadata": {},
   "source": [
    "Присоединяю к датафрейму df датафрейм installs по колонке device_id"
   ]
  },
  {
   "cell_type": "code",
   "execution_count": 112,
   "id": "b362f5c5-d513-441a-89cb-c9a246ae660c",
   "metadata": {},
   "outputs": [],
   "source": [
    "data = df.merge(installs, how = 'left', on = 'device_id')"
   ]
  },
  {
   "cell_type": "code",
   "execution_count": 113,
   "id": "db76948b-6800-4249-b6cb-537dc1278553",
   "metadata": {},
   "outputs": [
    {
     "data": {
      "text/html": [
       "<div>\n",
       "<style scoped>\n",
       "    .dataframe tbody tr th:only-of-type {\n",
       "        vertical-align: middle;\n",
       "    }\n",
       "\n",
       "    .dataframe tbody tr th {\n",
       "        vertical-align: top;\n",
       "    }\n",
       "\n",
       "    .dataframe thead th {\n",
       "        text-align: right;\n",
       "    }\n",
       "</style>\n",
       "<table border=\"1\" class=\"dataframe\">\n",
       "  <thead>\n",
       "    <tr style=\"text-align: right;\">\n",
       "      <th></th>\n",
       "      <th>date</th>\n",
       "      <th>event</th>\n",
       "      <th>purchase_sum</th>\n",
       "      <th>os_name</th>\n",
       "      <th>device_id</th>\n",
       "      <th>gender</th>\n",
       "      <th>city</th>\n",
       "      <th>utm_source</th>\n",
       "      <th>month</th>\n",
       "      <th>install_date</th>\n",
       "    </tr>\n",
       "  </thead>\n",
       "  <tbody>\n",
       "    <tr>\n",
       "      <th>0</th>\n",
       "      <td>2020-01-01</td>\n",
       "      <td>app_start</td>\n",
       "      <td>NaN</td>\n",
       "      <td>android</td>\n",
       "      <td>669460</td>\n",
       "      <td>female</td>\n",
       "      <td>Moscow</td>\n",
       "      <td>-</td>\n",
       "      <td>1</td>\n",
       "      <td>2020-01-01</td>\n",
       "    </tr>\n",
       "    <tr>\n",
       "      <th>1</th>\n",
       "      <td>2020-01-01</td>\n",
       "      <td>app_start</td>\n",
       "      <td>NaN</td>\n",
       "      <td>ios</td>\n",
       "      <td>833621</td>\n",
       "      <td>male</td>\n",
       "      <td>Moscow</td>\n",
       "      <td>vk_ads</td>\n",
       "      <td>1</td>\n",
       "      <td>2020-01-01</td>\n",
       "    </tr>\n",
       "    <tr>\n",
       "      <th>2</th>\n",
       "      <td>2020-01-01</td>\n",
       "      <td>app_start</td>\n",
       "      <td>NaN</td>\n",
       "      <td>android</td>\n",
       "      <td>1579237</td>\n",
       "      <td>male</td>\n",
       "      <td>Saint-Petersburg</td>\n",
       "      <td>referal</td>\n",
       "      <td>1</td>\n",
       "      <td>NaT</td>\n",
       "    </tr>\n",
       "    <tr>\n",
       "      <th>3</th>\n",
       "      <td>2020-01-01</td>\n",
       "      <td>app_start</td>\n",
       "      <td>NaN</td>\n",
       "      <td>android</td>\n",
       "      <td>1737182</td>\n",
       "      <td>female</td>\n",
       "      <td>Moscow</td>\n",
       "      <td>facebook_ads</td>\n",
       "      <td>1</td>\n",
       "      <td>2020-01-01</td>\n",
       "    </tr>\n",
       "    <tr>\n",
       "      <th>4</th>\n",
       "      <td>2020-01-01</td>\n",
       "      <td>app_start</td>\n",
       "      <td>NaN</td>\n",
       "      <td>ios</td>\n",
       "      <td>4029024</td>\n",
       "      <td>female</td>\n",
       "      <td>Moscow</td>\n",
       "      <td>facebook_ads</td>\n",
       "      <td>1</td>\n",
       "      <td>2020-01-01</td>\n",
       "    </tr>\n",
       "  </tbody>\n",
       "</table>\n",
       "</div>"
      ],
      "text/plain": [
       "        date      event  purchase_sum  os_name  device_id  gender  \\\n",
       "0 2020-01-01  app_start           NaN  android     669460  female   \n",
       "1 2020-01-01  app_start           NaN      ios     833621    male   \n",
       "2 2020-01-01  app_start           NaN  android    1579237    male   \n",
       "3 2020-01-01  app_start           NaN  android    1737182  female   \n",
       "4 2020-01-01  app_start           NaN      ios    4029024  female   \n",
       "\n",
       "               city    utm_source  month install_date  \n",
       "0            Moscow             -      1   2020-01-01  \n",
       "1            Moscow        vk_ads      1   2020-01-01  \n",
       "2  Saint-Petersburg       referal      1          NaT  \n",
       "3            Moscow  facebook_ads      1   2020-01-01  \n",
       "4            Moscow  facebook_ads      1   2020-01-01  "
      ]
     },
     "execution_count": 113,
     "metadata": {},
     "output_type": "execute_result"
    }
   ],
   "source": [
    "data.head()"
   ]
  },
  {
   "cell_type": "markdown",
   "id": "7d8fa667-0978-4815-85a5-c5ba376007ee",
   "metadata": {},
   "source": [
    "Создаю новую колонку с датой первой покупки пользователями"
   ]
  },
  {
   "cell_type": "code",
   "execution_count": 114,
   "id": "390e747a-1bce-4967-b211-c4f9ddc65ac1",
   "metadata": {},
   "outputs": [],
   "source": [
    "purchases = df.query('event == \"purchase\"')[['date','device_id']]"
   ]
  },
  {
   "cell_type": "code",
   "execution_count": 115,
   "id": "8c65b5a9-d0df-497b-afb9-bd5ceb7291c1",
   "metadata": {},
   "outputs": [],
   "source": [
    "purchases = purchases.sort_values('date').drop_duplicates('device_id')"
   ]
  },
  {
   "cell_type": "code",
   "execution_count": 116,
   "id": "3102f31c-0cd5-4388-af74-061c548bd991",
   "metadata": {},
   "outputs": [],
   "source": [
    "purchases=purchases.rename(columns = {'date':'first_purchase_date'})"
   ]
  },
  {
   "cell_type": "code",
   "execution_count": 117,
   "id": "10874207-4736-47ee-82f7-01477c4084f0",
   "metadata": {},
   "outputs": [
    {
     "data": {
      "text/html": [
       "<div>\n",
       "<style scoped>\n",
       "    .dataframe tbody tr th:only-of-type {\n",
       "        vertical-align: middle;\n",
       "    }\n",
       "\n",
       "    .dataframe tbody tr th {\n",
       "        vertical-align: top;\n",
       "    }\n",
       "\n",
       "    .dataframe thead th {\n",
       "        text-align: right;\n",
       "    }\n",
       "</style>\n",
       "<table border=\"1\" class=\"dataframe\">\n",
       "  <thead>\n",
       "    <tr style=\"text-align: right;\">\n",
       "      <th></th>\n",
       "      <th>first_purchase_date</th>\n",
       "      <th>device_id</th>\n",
       "    </tr>\n",
       "  </thead>\n",
       "  <tbody>\n",
       "    <tr>\n",
       "      <th>7691</th>\n",
       "      <td>2020-01-01</td>\n",
       "      <td>6081155</td>\n",
       "    </tr>\n",
       "    <tr>\n",
       "      <th>8289</th>\n",
       "      <td>2020-01-01</td>\n",
       "      <td>1955306</td>\n",
       "    </tr>\n",
       "    <tr>\n",
       "      <th>8290</th>\n",
       "      <td>2020-01-01</td>\n",
       "      <td>20176327</td>\n",
       "    </tr>\n",
       "    <tr>\n",
       "      <th>8291</th>\n",
       "      <td>2020-01-01</td>\n",
       "      <td>28603960</td>\n",
       "    </tr>\n",
       "    <tr>\n",
       "      <th>8292</th>\n",
       "      <td>2020-01-01</td>\n",
       "      <td>14028316</td>\n",
       "    </tr>\n",
       "    <tr>\n",
       "      <th>...</th>\n",
       "      <td>...</td>\n",
       "      <td>...</td>\n",
       "    </tr>\n",
       "    <tr>\n",
       "      <th>2506842</th>\n",
       "      <td>2020-03-31</td>\n",
       "      <td>32122725</td>\n",
       "    </tr>\n",
       "    <tr>\n",
       "      <th>2506845</th>\n",
       "      <td>2020-03-31</td>\n",
       "      <td>23188703</td>\n",
       "    </tr>\n",
       "    <tr>\n",
       "      <th>2506848</th>\n",
       "      <td>2020-03-31</td>\n",
       "      <td>25732558</td>\n",
       "    </tr>\n",
       "    <tr>\n",
       "      <th>2506852</th>\n",
       "      <td>2020-03-31</td>\n",
       "      <td>17778508</td>\n",
       "    </tr>\n",
       "    <tr>\n",
       "      <th>2506855</th>\n",
       "      <td>2020-03-31</td>\n",
       "      <td>41713</td>\n",
       "    </tr>\n",
       "  </tbody>\n",
       "</table>\n",
       "<p>70875 rows × 2 columns</p>\n",
       "</div>"
      ],
      "text/plain": [
       "        first_purchase_date  device_id\n",
       "7691             2020-01-01    6081155\n",
       "8289             2020-01-01    1955306\n",
       "8290             2020-01-01   20176327\n",
       "8291             2020-01-01   28603960\n",
       "8292             2020-01-01   14028316\n",
       "...                     ...        ...\n",
       "2506842          2020-03-31   32122725\n",
       "2506845          2020-03-31   23188703\n",
       "2506848          2020-03-31   25732558\n",
       "2506852          2020-03-31   17778508\n",
       "2506855          2020-03-31      41713\n",
       "\n",
       "[70875 rows x 2 columns]"
      ]
     },
     "execution_count": 117,
     "metadata": {},
     "output_type": "execute_result"
    }
   ],
   "source": [
    "purchases"
   ]
  },
  {
   "cell_type": "markdown",
   "id": "a06c0933-1e74-4632-8fbc-3629723c905f",
   "metadata": {},
   "source": [
    "Присоединяю данные из таблицы purchase к итоговому датафрейму data"
   ]
  },
  {
   "cell_type": "code",
   "execution_count": 118,
   "id": "a37d8d3b-852c-42d5-8eb8-0d7b7494ba1f",
   "metadata": {},
   "outputs": [],
   "source": [
    "data = data.merge(purchases, how = 'left', on = 'device_id')"
   ]
  },
  {
   "cell_type": "code",
   "execution_count": 119,
   "id": "b4e3897c-476e-49c2-837c-452df3adb0f2",
   "metadata": {},
   "outputs": [
    {
     "data": {
      "text/html": [
       "<div>\n",
       "<style scoped>\n",
       "    .dataframe tbody tr th:only-of-type {\n",
       "        vertical-align: middle;\n",
       "    }\n",
       "\n",
       "    .dataframe tbody tr th {\n",
       "        vertical-align: top;\n",
       "    }\n",
       "\n",
       "    .dataframe thead th {\n",
       "        text-align: right;\n",
       "    }\n",
       "</style>\n",
       "<table border=\"1\" class=\"dataframe\">\n",
       "  <thead>\n",
       "    <tr style=\"text-align: right;\">\n",
       "      <th></th>\n",
       "      <th>date</th>\n",
       "      <th>event</th>\n",
       "      <th>purchase_sum</th>\n",
       "      <th>os_name</th>\n",
       "      <th>device_id</th>\n",
       "      <th>gender</th>\n",
       "      <th>city</th>\n",
       "      <th>utm_source</th>\n",
       "      <th>month</th>\n",
       "      <th>install_date</th>\n",
       "      <th>first_purchase_date</th>\n",
       "    </tr>\n",
       "  </thead>\n",
       "  <tbody>\n",
       "    <tr>\n",
       "      <th>0</th>\n",
       "      <td>2020-01-01</td>\n",
       "      <td>app_start</td>\n",
       "      <td>NaN</td>\n",
       "      <td>android</td>\n",
       "      <td>669460</td>\n",
       "      <td>female</td>\n",
       "      <td>Moscow</td>\n",
       "      <td>-</td>\n",
       "      <td>1</td>\n",
       "      <td>2020-01-01</td>\n",
       "      <td>2020-01-07</td>\n",
       "    </tr>\n",
       "    <tr>\n",
       "      <th>1</th>\n",
       "      <td>2020-01-01</td>\n",
       "      <td>app_start</td>\n",
       "      <td>NaN</td>\n",
       "      <td>ios</td>\n",
       "      <td>833621</td>\n",
       "      <td>male</td>\n",
       "      <td>Moscow</td>\n",
       "      <td>vk_ads</td>\n",
       "      <td>1</td>\n",
       "      <td>2020-01-01</td>\n",
       "      <td>2020-01-01</td>\n",
       "    </tr>\n",
       "    <tr>\n",
       "      <th>2</th>\n",
       "      <td>2020-01-01</td>\n",
       "      <td>app_start</td>\n",
       "      <td>NaN</td>\n",
       "      <td>android</td>\n",
       "      <td>1579237</td>\n",
       "      <td>male</td>\n",
       "      <td>Saint-Petersburg</td>\n",
       "      <td>referal</td>\n",
       "      <td>1</td>\n",
       "      <td>NaT</td>\n",
       "      <td>2020-01-01</td>\n",
       "    </tr>\n",
       "    <tr>\n",
       "      <th>3</th>\n",
       "      <td>2020-01-01</td>\n",
       "      <td>app_start</td>\n",
       "      <td>NaN</td>\n",
       "      <td>android</td>\n",
       "      <td>1737182</td>\n",
       "      <td>female</td>\n",
       "      <td>Moscow</td>\n",
       "      <td>facebook_ads</td>\n",
       "      <td>1</td>\n",
       "      <td>2020-01-01</td>\n",
       "      <td>NaT</td>\n",
       "    </tr>\n",
       "    <tr>\n",
       "      <th>4</th>\n",
       "      <td>2020-01-01</td>\n",
       "      <td>app_start</td>\n",
       "      <td>NaN</td>\n",
       "      <td>ios</td>\n",
       "      <td>4029024</td>\n",
       "      <td>female</td>\n",
       "      <td>Moscow</td>\n",
       "      <td>facebook_ads</td>\n",
       "      <td>1</td>\n",
       "      <td>2020-01-01</td>\n",
       "      <td>NaT</td>\n",
       "    </tr>\n",
       "  </tbody>\n",
       "</table>\n",
       "</div>"
      ],
      "text/plain": [
       "        date      event  purchase_sum  os_name  device_id  gender  \\\n",
       "0 2020-01-01  app_start           NaN  android     669460  female   \n",
       "1 2020-01-01  app_start           NaN      ios     833621    male   \n",
       "2 2020-01-01  app_start           NaN  android    1579237    male   \n",
       "3 2020-01-01  app_start           NaN  android    1737182  female   \n",
       "4 2020-01-01  app_start           NaN      ios    4029024  female   \n",
       "\n",
       "               city    utm_source  month install_date first_purchase_date  \n",
       "0            Moscow             -      1   2020-01-01          2020-01-07  \n",
       "1            Moscow        vk_ads      1   2020-01-01          2020-01-01  \n",
       "2  Saint-Petersburg       referal      1          NaT          2020-01-01  \n",
       "3            Moscow  facebook_ads      1   2020-01-01                 NaT  \n",
       "4            Moscow  facebook_ads      1   2020-01-01                 NaT  "
      ]
     },
     "execution_count": 119,
     "metadata": {},
     "output_type": "execute_result"
    }
   ],
   "source": [
    "data.head()"
   ]
  },
  {
   "cell_type": "markdown",
   "id": "aea37f47-4505-4a61-b37b-21e13d4114ad",
   "metadata": {},
   "source": [
    "Сохраняю датафрейм в формат csv для дальнейшей работы в Tableau"
   ]
  },
  {
   "cell_type": "code",
   "execution_count": null,
   "id": "1a69d766-d48b-43e0-838c-6c7c28386425",
   "metadata": {},
   "outputs": [],
   "source": [
    "data.to_csv('KC_results.csv', index = False)"
   ]
  },
  {
   "cell_type": "markdown",
   "id": "21a8290b-9a25-47e3-81bd-5463c99cfa13",
   "metadata": {},
   "source": [
    "Обработал данные в Tableau"
   ]
  },
  {
   "attachments": {
    "3bb59508-3fec-464c-a04c-59116ea59f59.jpg": {
     "image/jpeg": "[encoded data removed]"
    }
   },
   "cell_type": "markdown",
   "id": "f8498068-8c51-4f13-9a48-ce249a31b66b",
   "metadata": {},
   "source": [
    "![photo_2023-02-10_13-44-46.jpg](attachment:3bb59508-3fec-464c-a04c-59116ea59f59.jpg)"
   ]
  },
  {
   "cell_type": "markdown",
   "id": "caf4ee0a-2a24-466c-95ac-95c57a7e70a4",
   "metadata": {},
   "source": [
    "Ответ: Конверсия оказалась наибольшей для когорты 01.01.2020"
   ]
  },
  {
   "cell_type": "markdown",
   "id": "ba85f778-96fc-46e2-ab1b-831eba74ec5b",
   "metadata": {},
   "source": [
    "### Вопрос 4\n",
    "Укажите значение CR из предыдущего вопроса в %?"
   ]
  },
  {
   "cell_type": "markdown",
   "id": "3712a00f-6968-4839-adf2-6f84bb763ce9",
   "metadata": {},
   "source": [
    "Ответ: СR = 37,6 %"
   ]
  },
  {
   "cell_type": "markdown",
   "id": "dbeb8064-3537-44fb-b53b-cb9483750c2b",
   "metadata": {},
   "source": [
    "### Вопрос 5:\n",
    "Проанализируйте на каком этапе воронки отваливается бОльшая часть клиентов. Посмотрите отдельно сценарии для зарегистрированных и для незарегистрированных пользователей. На каком шаге отваливается больше всего зарегистрированных пользователей?"
   ]
  },
  {
   "cell_type": "code",
   "execution_count": 124,
   "id": "a79f049d-c6b1-4501-9b41-30bcecfe40b5",
   "metadata": {},
   "outputs": [],
   "source": [
    "registration_date = data.query('event ==  \"register\"').sort_values('date').drop_duplicates('device_id')"
   ]
  },
  {
   "cell_type": "code",
   "execution_count": 134,
   "id": "d2af1905-b055-4e10-aa20-8d2293cff260",
   "metadata": {},
   "outputs": [
    {
     "data": {
      "text/html": [
       "<div>\n",
       "<style scoped>\n",
       "    .dataframe tbody tr th:only-of-type {\n",
       "        vertical-align: middle;\n",
       "    }\n",
       "\n",
       "    .dataframe tbody tr th {\n",
       "        vertical-align: top;\n",
       "    }\n",
       "\n",
       "    .dataframe thead th {\n",
       "        text-align: right;\n",
       "    }\n",
       "</style>\n",
       "<table border=\"1\" class=\"dataframe\">\n",
       "  <thead>\n",
       "    <tr style=\"text-align: right;\">\n",
       "      <th></th>\n",
       "      <th>date</th>\n",
       "      <th>event</th>\n",
       "      <th>purchase_sum</th>\n",
       "      <th>os_name</th>\n",
       "      <th>device_id</th>\n",
       "      <th>gender</th>\n",
       "      <th>city</th>\n",
       "      <th>utm_source</th>\n",
       "      <th>month</th>\n",
       "      <th>install_date</th>\n",
       "      <th>first_purchase_date</th>\n",
       "      <th>days_after_purchase</th>\n",
       "    </tr>\n",
       "  </thead>\n",
       "  <tbody>\n",
       "    <tr>\n",
       "      <th>2669658</th>\n",
       "      <td>2020-01-01</td>\n",
       "      <td>register</td>\n",
       "      <td>NaN</td>\n",
       "      <td>ios</td>\n",
       "      <td>294193</td>\n",
       "      <td>female</td>\n",
       "      <td>Saint-Petersburg</td>\n",
       "      <td>instagram_ads</td>\n",
       "      <td>1</td>\n",
       "      <td>NaT</td>\n",
       "      <td>2020-01-01</td>\n",
       "      <td>NaT</td>\n",
       "    </tr>\n",
       "    <tr>\n",
       "      <th>2670356</th>\n",
       "      <td>2020-01-01</td>\n",
       "      <td>register</td>\n",
       "      <td>NaN</td>\n",
       "      <td>ios</td>\n",
       "      <td>21780</td>\n",
       "      <td>female</td>\n",
       "      <td>Saint-Petersburg</td>\n",
       "      <td>yandex-direct</td>\n",
       "      <td>1</td>\n",
       "      <td>2020-01-01</td>\n",
       "      <td>2020-01-01</td>\n",
       "      <td>0 days</td>\n",
       "    </tr>\n",
       "    <tr>\n",
       "      <th>2670357</th>\n",
       "      <td>2020-01-01</td>\n",
       "      <td>register</td>\n",
       "      <td>NaN</td>\n",
       "      <td>ios</td>\n",
       "      <td>2470180</td>\n",
       "      <td>male</td>\n",
       "      <td>Moscow</td>\n",
       "      <td>google_ads</td>\n",
       "      <td>1</td>\n",
       "      <td>2020-01-01</td>\n",
       "      <td>2020-01-01</td>\n",
       "      <td>0 days</td>\n",
       "    </tr>\n",
       "    <tr>\n",
       "      <th>2670358</th>\n",
       "      <td>2020-01-01</td>\n",
       "      <td>register</td>\n",
       "      <td>NaN</td>\n",
       "      <td>android</td>\n",
       "      <td>3735668</td>\n",
       "      <td>male</td>\n",
       "      <td>Moscow</td>\n",
       "      <td>instagram_ads</td>\n",
       "      <td>1</td>\n",
       "      <td>2020-01-01</td>\n",
       "      <td>2020-01-01</td>\n",
       "      <td>0 days</td>\n",
       "    </tr>\n",
       "    <tr>\n",
       "      <th>2670359</th>\n",
       "      <td>2020-01-01</td>\n",
       "      <td>register</td>\n",
       "      <td>NaN</td>\n",
       "      <td>android</td>\n",
       "      <td>11372938</td>\n",
       "      <td>male</td>\n",
       "      <td>Saint-Petersburg</td>\n",
       "      <td>-</td>\n",
       "      <td>1</td>\n",
       "      <td>2020-01-01</td>\n",
       "      <td>2020-01-01</td>\n",
       "      <td>0 days</td>\n",
       "    </tr>\n",
       "  </tbody>\n",
       "</table>\n",
       "</div>"
      ],
      "text/plain": [
       "              date     event  purchase_sum  os_name  device_id  gender  \\\n",
       "2669658 2020-01-01  register           NaN      ios     294193  female   \n",
       "2670356 2020-01-01  register           NaN      ios      21780  female   \n",
       "2670357 2020-01-01  register           NaN      ios    2470180    male   \n",
       "2670358 2020-01-01  register           NaN  android    3735668    male   \n",
       "2670359 2020-01-01  register           NaN  android   11372938    male   \n",
       "\n",
       "                     city     utm_source  month install_date  \\\n",
       "2669658  Saint-Petersburg  instagram_ads      1          NaT   \n",
       "2670356  Saint-Petersburg  yandex-direct      1   2020-01-01   \n",
       "2670357            Moscow     google_ads      1   2020-01-01   \n",
       "2670358            Moscow  instagram_ads      1   2020-01-01   \n",
       "2670359  Saint-Petersburg              -      1   2020-01-01   \n",
       "\n",
       "        first_purchase_date days_after_purchase  \n",
       "2669658          2020-01-01                 NaT  \n",
       "2670356          2020-01-01              0 days  \n",
       "2670357          2020-01-01              0 days  \n",
       "2670358          2020-01-01              0 days  \n",
       "2670359          2020-01-01              0 days  "
      ]
     },
     "execution_count": 134,
     "metadata": {},
     "output_type": "execute_result"
    }
   ],
   "source": [
    "registration_date.head()"
   ]
  },
  {
   "cell_type": "code",
   "execution_count": 128,
   "id": "540b4ab7-e484-4325-835f-499d15424f38",
   "metadata": {},
   "outputs": [],
   "source": [
    "data['first_registration'] = data['device_id'].map(registration_date.set_index('device_id')['date'])"
   ]
  },
  {
   "cell_type": "code",
   "execution_count": 131,
   "id": "7cc2f6cc-3c62-4b05-98ee-bc0c79e113dc",
   "metadata": {},
   "outputs": [],
   "source": [
    "already_reg = data[data['first_registration']<data['date']] "
   ]
  },
  {
   "cell_type": "code",
   "execution_count": 133,
   "id": "e1b4327c-9362-4985-9551-5d309aac14c8",
   "metadata": {},
   "outputs": [
    {
     "data": {
      "text/plain": [
       "event\n",
       "app_start      40991\n",
       "choose_item    37926\n",
       "purchase       24880\n",
       "search         40482\n",
       "tap_basket     34517\n",
       "Name: device_id, dtype: int64"
      ]
     },
     "execution_count": 133,
     "metadata": {},
     "output_type": "execute_result"
    }
   ],
   "source": [
    "already_reg.groupby('event')['device_id'].nunique()"
   ]
  },
  {
   "cell_type": "code",
   "execution_count": 136,
   "id": "13397805-191f-4401-a246-6c6f0a3eefb5",
   "metadata": {},
   "outputs": [
    {
     "name": "stdout",
     "output_type": "stream",
     "text": [
      "Конверсия в поиск из открытия 98.76\n"
     ]
    }
   ],
   "source": [
    "print(\"Конверсия в поиск из открытия\", round((40482/40991)*100,2))"
   ]
  },
  {
   "cell_type": "code",
   "execution_count": 137,
   "id": "e2fc2166-7aa5-4f38-bfdd-c61ccc4d6b46",
   "metadata": {},
   "outputs": [
    {
     "name": "stdout",
     "output_type": "stream",
     "text": [
      "Конверсия в добавление товара из поиска 93.69\n"
     ]
    }
   ],
   "source": [
    "print(\"Конверсия в добавление товара из поиска\", round((37926/40482)*100,2))"
   ]
  },
  {
   "cell_type": "code",
   "execution_count": 138,
   "id": "2c44997b-4d66-4e1d-944c-f5ca7ae18aa1",
   "metadata": {},
   "outputs": [
    {
     "name": "stdout",
     "output_type": "stream",
     "text": [
      "Конверсия в переход в корзину из добавление товара 91.01\n"
     ]
    }
   ],
   "source": [
    "print(\"Конверсия в переход в корзину из добавление товара\", round((34517/37926)*100,2))"
   ]
  },
  {
   "cell_type": "code",
   "execution_count": 139,
   "id": "2ce9603d-1ebd-4274-a9c9-8a19cacbac33",
   "metadata": {},
   "outputs": [
    {
     "name": "stdout",
     "output_type": "stream",
     "text": [
      "Конверсия в покупку из перехода в корзину 72.08\n"
     ]
    }
   ],
   "source": [
    "print(\"Конверсия в покупку из перехода в корзину\", round((24880/34517)*100,2))"
   ]
  },
  {
   "cell_type": "markdown",
   "id": "655ebcd6-953b-4362-8ef2-fe7c33204d68",
   "metadata": {},
   "source": [
    "Ответ: шаг \"Переход в корзину\""
   ]
  },
  {
   "cell_type": "markdown",
   "id": "10f76245-e2af-41be-86d8-4228dac8d75f",
   "metadata": {},
   "source": [
    "### Вопрос 6:\n",
    "Пользователи, пришедшие с какого канала, имеют медианный первый чек выше? (учитываются только первые покупки пользователей)"
   ]
  },
  {
   "cell_type": "code",
   "execution_count": 142,
   "id": "fd324238-fa51-460a-ba5f-848c2651308f",
   "metadata": {},
   "outputs": [],
   "source": [
    "purchases = data[data['event'] == 'purchase'][['date','device_id','purchase_sum', 'utm_source']]"
   ]
  },
  {
   "cell_type": "code",
   "execution_count": 144,
   "id": "ca00c487-137a-463b-a29d-64b2106acdc6",
   "metadata": {},
   "outputs": [],
   "source": [
    "purchases = purchases.sort_values('date').drop_duplicates('device_id')"
   ]
  },
  {
   "cell_type": "code",
   "execution_count": 146,
   "id": "5e74b43f-a7e7-4d07-8b30-5ca770b6a16e",
   "metadata": {},
   "outputs": [
    {
     "data": {
      "text/html": [
       "<div>\n",
       "<style scoped>\n",
       "    .dataframe tbody tr th:only-of-type {\n",
       "        vertical-align: middle;\n",
       "    }\n",
       "\n",
       "    .dataframe tbody tr th {\n",
       "        vertical-align: top;\n",
       "    }\n",
       "\n",
       "    .dataframe thead th {\n",
       "        text-align: right;\n",
       "    }\n",
       "</style>\n",
       "<table border=\"1\" class=\"dataframe\">\n",
       "  <thead>\n",
       "    <tr style=\"text-align: right;\">\n",
       "      <th></th>\n",
       "      <th>device_id</th>\n",
       "      <th>purchase_sum</th>\n",
       "    </tr>\n",
       "    <tr>\n",
       "      <th>utm_source</th>\n",
       "      <th></th>\n",
       "      <th></th>\n",
       "    </tr>\n",
       "  </thead>\n",
       "  <tbody>\n",
       "    <tr>\n",
       "      <th>-</th>\n",
       "      <td>10972119.0</td>\n",
       "      <td>398.5</td>\n",
       "    </tr>\n",
       "    <tr>\n",
       "      <th>facebook_ads</th>\n",
       "      <td>10844491.0</td>\n",
       "      <td>389.0</td>\n",
       "    </tr>\n",
       "    <tr>\n",
       "      <th>google_ads</th>\n",
       "      <td>11089575.0</td>\n",
       "      <td>390.5</td>\n",
       "    </tr>\n",
       "    <tr>\n",
       "      <th>instagram_ads</th>\n",
       "      <td>11096726.0</td>\n",
       "      <td>393.5</td>\n",
       "    </tr>\n",
       "    <tr>\n",
       "      <th>referal</th>\n",
       "      <td>10491527.0</td>\n",
       "      <td>395.5</td>\n",
       "    </tr>\n",
       "    <tr>\n",
       "      <th>vk_ads</th>\n",
       "      <td>11334978.0</td>\n",
       "      <td>393.0</td>\n",
       "    </tr>\n",
       "    <tr>\n",
       "      <th>yandex-direct</th>\n",
       "      <td>10969061.5</td>\n",
       "      <td>392.5</td>\n",
       "    </tr>\n",
       "  </tbody>\n",
       "</table>\n",
       "</div>"
      ],
      "text/plain": [
       "                device_id  purchase_sum\n",
       "utm_source                             \n",
       "-              10972119.0         398.5\n",
       "facebook_ads   10844491.0         389.0\n",
       "google_ads     11089575.0         390.5\n",
       "instagram_ads  11096726.0         393.5\n",
       "referal        10491527.0         395.5\n",
       "vk_ads         11334978.0         393.0\n",
       "yandex-direct  10969061.5         392.5"
      ]
     },
     "execution_count": 146,
     "metadata": {},
     "output_type": "execute_result"
    }
   ],
   "source": [
    "purchases.groupby('utm_source').median()"
   ]
  },
  {
   "cell_type": "code",
   "execution_count": null,
   "id": "457597e2-d8d5-4fce-916f-e94d7e7981f8",
   "metadata": {},
   "outputs": [],
   "source": [
    "Ответ: Реферальная программа"
   ]
  },
  {
   "cell_type": "markdown",
   "id": "08f48a55-f42c-4a10-a7e2-0f547f2b75ba",
   "metadata": {},
   "source": [
    "### Вопрос 7:\n",
    "Данные по затратам на рекламу:\n",
    "\n",
    "Яндекс – 10 491 707 руб.\n",
    "Гугл – 10 534 878 руб.\n",
    "Фейсбук – 8 590 498 руб.\n",
    "Инстаграм – 8 561626 руб.\n",
    "ВК – 9 553 531руб.\n",
    "\n",
    "Расходы на реферальную программу: если пользователь приведет друга и последний совершит первую покупку, то оба получат по 100 рублей.\n",
    "Какой платный канал имеет самый высокий ROMI?"
   ]
  },
  {
   "cell_type": "markdown",
   "id": "c4f291fd-8212-4b5f-9960-15c3e3084904",
   "metadata": {},
   "source": [
    "##### Считаю общую выручку"
   ]
  },
  {
   "cell_type": "code",
   "execution_count": 148,
   "id": "f7c4e95a-c88d-4400-88d9-17e703f09083",
   "metadata": {},
   "outputs": [
    {
     "data": {
      "text/plain": [
       "utm_source\n",
       "-                21449749.5\n",
       "facebook_ads     12249901.0\n",
       "google_ads       12868276.0\n",
       "instagram_ads    14546969.0\n",
       "referal           8837044.5\n",
       "vk_ads           16389652.5\n",
       "yandex-direct    13915368.0\n",
       "Name: purchase_sum, dtype: float64"
      ]
     },
     "execution_count": 148,
     "metadata": {},
     "output_type": "execute_result"
    }
   ],
   "source": [
    "data.groupby('utm_source')['purchase_sum'].sum()"
   ]
  },
  {
   "cell_type": "code",
   "execution_count": 151,
   "id": "2dc6c2b7-0846-4fae-80f7-73a8f24aef20",
   "metadata": {},
   "outputs": [
    {
     "name": "stdout",
     "output_type": "stream",
     "text": [
      "ROMI Facebook: 42.6 %\n",
      "ROMI Гугл: 22.15 %\n",
      "ROMI Яндекс: 32.63 %\n",
      "ROMI Инстаграм: 69.91 %\n",
      "ROMI ВК: 71.56 %\n"
     ]
    }
   ],
   "source": [
    "print('ROMI Facebook:', round((12249901/8590498-1)*100,2),\"%\")\n",
    "print('ROMI Гугл:', round((12868276/10534878-1)*100,2),\"%\")\n",
    "print('ROMI Яндекс:', round((13915368/10491707-1)*100,2),\"%\")\n",
    "print('ROMI Инстаграм:', round((14546969/8561626-1)*100,2),\"%\")\n",
    "print('ROMI ВК:', round((16389652.5/9553531-1)*100,2),\"%\")\n",
    "\n"
   ]
  },
  {
   "cell_type": "markdown",
   "id": "25376a52-81f5-4bd2-a9dd-4cad9bed360b",
   "metadata": {},
   "source": [
    "Ответ: ВК"
   ]
  }
 ],
 "metadata": {
  "kernelspec": {
   "display_name": "Python 3 (ipykernel)",
   "language": "python",
   "name": "python3"
  },
  "language_info": {
   "codemirror_mode": {
    "name": "ipython",
    "version": 3
   },
   "file_extension": ".py",
   "mimetype": "text/x-python",
   "name": "python",
   "nbconvert_exporter": "python",
   "pygments_lexer": "ipython3",
   "version": "3.8.10"
  }
 },
 "nbformat": 4,
 "nbformat_minor": 5
}
