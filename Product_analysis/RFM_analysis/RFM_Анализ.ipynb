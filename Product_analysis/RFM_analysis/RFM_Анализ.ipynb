{
 "cells": [
  {
   "cell_type": "markdown",
   "id": "7e2c6365-4143-49be-a4e5-4587deda4985",
   "metadata": {},
   "source": [
    "##### Импортирую нужные библиотеки"
   ]
  },
  {
   "cell_type": "code",
   "execution_count": 1,
   "id": "aa7d1f22-7a19-4952-a426-86c1760bd062",
   "metadata": {},
   "outputs": [],
   "source": [
    "import pandas as pd\n",
    "import numpy as np\n",
    "import matplotlib.pyplot as plt\n",
    "import seaborn as sns\n",
    "sns.set()\n",
    "\n",
    "# Graphics in SVG format are more sharp and legible\n",
    "get_ipython().run_line_magic('config', \"InlineBackend.figure_format = 'svg'\")\n",
    "%config InlineBackend.figure_format='svg'\n",
    "# Increase the default plot size and set the color scheme\n",
    "plt.rcParams['figure.figsize'] = (8, 5)\n",
    "plt.rcParams['image.cmap'] = 'viridis'"
   ]
  },
  {
   "cell_type": "markdown",
   "id": "a068067b-92bd-49fc-846b-2d78c5f82c9d",
   "metadata": {},
   "source": [
    "##### Загружаю датасет "
   ]
  },
  {
   "cell_type": "code",
   "execution_count": 2,
   "id": "fb8147f9-339f-46e9-9424-198fabee7bd8",
   "metadata": {},
   "outputs": [
    {
     "name": "stderr",
     "output_type": "stream",
     "text": [
      "/nfs/env/lib/python3.8/site-packages/IPython/core/interactiveshell.py:3441: DtypeWarning: Columns (1) have mixed types.Specify dtype option on import or set low_memory=False.\n",
      "  exec(code_obj, self.user_global_ns, self.user_ns)\n"
     ]
    }
   ],
   "source": [
    "df = pd.read_csv('RFM_ht_data.csv')"
   ]
  },
  {
   "cell_type": "code",
   "execution_count": 3,
   "id": "11935140-1cfd-4640-86e7-93d47b88c35f",
   "metadata": {},
   "outputs": [
    {
     "data": {
      "text/html": [
       "<div>\n",
       "<style scoped>\n",
       "    .dataframe tbody tr th:only-of-type {\n",
       "        vertical-align: middle;\n",
       "    }\n",
       "\n",
       "    .dataframe tbody tr th {\n",
       "        vertical-align: top;\n",
       "    }\n",
       "\n",
       "    .dataframe thead th {\n",
       "        text-align: right;\n",
       "    }\n",
       "</style>\n",
       "<table border=\"1\" class=\"dataframe\">\n",
       "  <thead>\n",
       "    <tr style=\"text-align: right;\">\n",
       "      <th></th>\n",
       "      <th>InvoiceNo</th>\n",
       "      <th>CustomerCode</th>\n",
       "      <th>InvoiceDate</th>\n",
       "      <th>Amount</th>\n",
       "    </tr>\n",
       "  </thead>\n",
       "  <tbody>\n",
       "    <tr>\n",
       "      <th>0</th>\n",
       "      <td>C0011810010001</td>\n",
       "      <td>19067290</td>\n",
       "      <td>2020-09-01</td>\n",
       "      <td>1716.00</td>\n",
       "    </tr>\n",
       "    <tr>\n",
       "      <th>1</th>\n",
       "      <td>C0011810010017</td>\n",
       "      <td>13233933</td>\n",
       "      <td>2020-09-01</td>\n",
       "      <td>1489.74</td>\n",
       "    </tr>\n",
       "    <tr>\n",
       "      <th>2</th>\n",
       "      <td>C0011810010020</td>\n",
       "      <td>99057968</td>\n",
       "      <td>2020-09-01</td>\n",
       "      <td>151.47</td>\n",
       "    </tr>\n",
       "    <tr>\n",
       "      <th>3</th>\n",
       "      <td>C0011810010021</td>\n",
       "      <td>80007276</td>\n",
       "      <td>2020-09-01</td>\n",
       "      <td>146.72</td>\n",
       "    </tr>\n",
       "    <tr>\n",
       "      <th>4</th>\n",
       "      <td>C0011810010024</td>\n",
       "      <td>13164076</td>\n",
       "      <td>2020-09-01</td>\n",
       "      <td>104.00</td>\n",
       "    </tr>\n",
       "  </tbody>\n",
       "</table>\n",
       "</div>"
      ],
      "text/plain": [
       "        InvoiceNo CustomerCode InvoiceDate   Amount\n",
       "0  C0011810010001     19067290  2020-09-01  1716.00\n",
       "1  C0011810010017     13233933  2020-09-01  1489.74\n",
       "2  C0011810010020     99057968  2020-09-01   151.47\n",
       "3  C0011810010021     80007276  2020-09-01   146.72\n",
       "4  C0011810010024     13164076  2020-09-01   104.00"
      ]
     },
     "execution_count": 3,
     "metadata": {},
     "output_type": "execute_result"
    }
   ],
   "source": [
    "df.head()"
   ]
  },
  {
   "cell_type": "code",
   "execution_count": 4,
   "id": "84a484d7-1af4-4959-ab31-43699e26be67",
   "metadata": {},
   "outputs": [
    {
     "name": "stdout",
     "output_type": "stream",
     "text": [
      "<class 'pandas.core.frame.DataFrame'>\n",
      "RangeIndex: 332730 entries, 0 to 332729\n",
      "Data columns (total 4 columns):\n",
      " #   Column        Non-Null Count   Dtype  \n",
      "---  ------        --------------   -----  \n",
      " 0   InvoiceNo     332730 non-null  object \n",
      " 1   CustomerCode  332730 non-null  object \n",
      " 2   InvoiceDate   332730 non-null  object \n",
      " 3   Amount        332730 non-null  float64\n",
      "dtypes: float64(1), object(3)\n",
      "memory usage: 10.2+ MB\n"
     ]
    }
   ],
   "source": [
    "df.info()"
   ]
  },
  {
   "cell_type": "code",
   "execution_count": 5,
   "id": "678bcead-9ae2-44de-9ed8-1c06b4619136",
   "metadata": {},
   "outputs": [],
   "source": [
    "# меняю формат данных в датасете\n",
    "df['InvoiceDate'] = pd.to_datetime(df['InvoiceDate'])\n",
    "df['CustomerCode'] = df['CustomerCode'].apply(str)\n",
    "df['InvoiceNo'] = df['InvoiceNo'].apply(str)"
   ]
  },
  {
   "cell_type": "markdown",
   "id": "7e185e7f-d2a1-42f7-b47e-8e6d7b2396aa",
   "metadata": {},
   "source": [
    "#### RFM-анализ"
   ]
  },
  {
   "cell_type": "code",
   "execution_count": 14,
   "id": "98362efc-b86a-4117-a8cd-f49f9d04c80f",
   "metadata": {},
   "outputs": [],
   "source": [
    "# вывожу дату последнего действия, залогированного в датасете. От этой даты будут отсчитываться дни с момента последней покупки у пользователей.\n",
    "last_date = df['InvoiceDate'].max()"
   ]
  },
  {
   "cell_type": "code",
   "execution_count": 15,
   "id": "40f113d9-f47d-4c15-bd61-360ce812b8bf",
   "metadata": {},
   "outputs": [
    {
     "data": {
      "text/plain": [
       "Timestamp('2020-09-30 00:00:00')"
      ]
     },
     "execution_count": 15,
     "metadata": {},
     "output_type": "execute_result"
    }
   ],
   "source": [
    "last_date"
   ]
  },
  {
   "cell_type": "code",
   "execution_count": 16,
   "id": "8aba4ebc-4dfe-4bd5-b08c-fa846c768e4e",
   "metadata": {},
   "outputs": [],
   "source": [
    "# создаю новый датасет с расчетом метрик для RFM-анализа\n",
    "rfmTablee = df.groupby('CustomerCode', as_index = False).agg({'InvoiceDate': lambda x: (last_date - x.max()).days, # Recency\n",
    "                                      'InvoiceNo': lambda x: len(x),      # Frequency\n",
    "                                      'Amount': lambda x: x.sum()}) # Monetary"
   ]
  },
  {
   "cell_type": "code",
   "execution_count": 17,
   "id": "83d51934-02d5-493a-9a80-482b3fcd5b18",
   "metadata": {},
   "outputs": [
    {
     "data": {
      "text/html": [
       "<div>\n",
       "<style scoped>\n",
       "    .dataframe tbody tr th:only-of-type {\n",
       "        vertical-align: middle;\n",
       "    }\n",
       "\n",
       "    .dataframe tbody tr th {\n",
       "        vertical-align: top;\n",
       "    }\n",
       "\n",
       "    .dataframe thead th {\n",
       "        text-align: right;\n",
       "    }\n",
       "</style>\n",
       "<table border=\"1\" class=\"dataframe\">\n",
       "  <thead>\n",
       "    <tr style=\"text-align: right;\">\n",
       "      <th></th>\n",
       "      <th>CustomerCode</th>\n",
       "      <th>InvoiceDate</th>\n",
       "      <th>InvoiceNo</th>\n",
       "      <th>Amount</th>\n",
       "    </tr>\n",
       "  </thead>\n",
       "  <tbody>\n",
       "    <tr>\n",
       "      <th>0</th>\n",
       "      <td>02213019</td>\n",
       "      <td>19</td>\n",
       "      <td>1</td>\n",
       "      <td>1609.20</td>\n",
       "    </tr>\n",
       "    <tr>\n",
       "      <th>1</th>\n",
       "      <td>02213042</td>\n",
       "      <td>22</td>\n",
       "      <td>3</td>\n",
       "      <td>9685.48</td>\n",
       "    </tr>\n",
       "    <tr>\n",
       "      <th>2</th>\n",
       "      <td>02213071</td>\n",
       "      <td>29</td>\n",
       "      <td>1</td>\n",
       "      <td>415.00</td>\n",
       "    </tr>\n",
       "    <tr>\n",
       "      <th>3</th>\n",
       "      <td>02213088</td>\n",
       "      <td>23</td>\n",
       "      <td>1</td>\n",
       "      <td>305.00</td>\n",
       "    </tr>\n",
       "    <tr>\n",
       "      <th>4</th>\n",
       "      <td>02213092</td>\n",
       "      <td>25</td>\n",
       "      <td>1</td>\n",
       "      <td>1412.88</td>\n",
       "    </tr>\n",
       "  </tbody>\n",
       "</table>\n",
       "</div>"
      ],
      "text/plain": [
       "  CustomerCode  InvoiceDate  InvoiceNo   Amount\n",
       "0     02213019           19          1  1609.20\n",
       "1     02213042           22          3  9685.48\n",
       "2     02213071           29          1   415.00\n",
       "3     02213088           23          1   305.00\n",
       "4     02213092           25          1  1412.88"
      ]
     },
     "execution_count": 17,
     "metadata": {},
     "output_type": "execute_result"
    }
   ],
   "source": [
    "rfmTablee.head()"
   ]
  },
  {
   "cell_type": "code",
   "execution_count": 18,
   "id": "e3a4b914-faa5-4b60-8ec1-cfd8c88c22c5",
   "metadata": {},
   "outputs": [],
   "source": [
    "# привожу колонку order к формату int, переименовываю колонки\n",
    "rfmTablee['InvoiceDate'] = rfmTablee['InvoiceDate'].astype(int)\n",
    "rfmTablee.rename(columns = {'InvoiceDate':'recency',\n",
    "                           'InvoiceNo':'frequency',\n",
    "                           'Amount':'monetary_value'}, inplace = True)"
   ]
  },
  {
   "cell_type": "code",
   "execution_count": 19,
   "id": "ad9e0064-0879-4bf1-ae23-e1ed25a2581a",
   "metadata": {},
   "outputs": [],
   "source": [
    "rfmSegmentation = rfmTablee"
   ]
  },
  {
   "cell_type": "code",
   "execution_count": null,
   "id": "f0cdfd36-dbd7-41b1-a784-d7f98cbe589f",
   "metadata": {},
   "outputs": [],
   "source": [
    "# распределяю пользователей по каждой из метрик на равные группы для RFM-анализа. Для этого считаю квантили метрик"
   ]
  },
  {
   "cell_type": "code",
   "execution_count": 20,
   "id": "d21074ba-3aa5-4a55-9b51-fac0cc3da175",
   "metadata": {},
   "outputs": [],
   "source": [
    "quantiles = rfmTablee.quantile(q=[0.25,0.5,0.75])"
   ]
  },
  {
   "cell_type": "code",
   "execution_count": 21,
   "id": "5252a042-5459-4e56-994f-7d767d05c033",
   "metadata": {},
   "outputs": [
    {
     "data": {
      "text/html": [
       "<div>\n",
       "<style scoped>\n",
       "    .dataframe tbody tr th:only-of-type {\n",
       "        vertical-align: middle;\n",
       "    }\n",
       "\n",
       "    .dataframe tbody tr th {\n",
       "        vertical-align: top;\n",
       "    }\n",
       "\n",
       "    .dataframe thead th {\n",
       "        text-align: right;\n",
       "    }\n",
       "</style>\n",
       "<table border=\"1\" class=\"dataframe\">\n",
       "  <thead>\n",
       "    <tr style=\"text-align: right;\">\n",
       "      <th></th>\n",
       "      <th>recency</th>\n",
       "      <th>frequency</th>\n",
       "      <th>monetary_value</th>\n",
       "    </tr>\n",
       "  </thead>\n",
       "  <tbody>\n",
       "    <tr>\n",
       "      <th>0.25</th>\n",
       "      <td>2.0</td>\n",
       "      <td>1.0</td>\n",
       "      <td>765.00</td>\n",
       "    </tr>\n",
       "    <tr>\n",
       "      <th>0.50</th>\n",
       "      <td>8.0</td>\n",
       "      <td>2.0</td>\n",
       "      <td>1834.48</td>\n",
       "    </tr>\n",
       "    <tr>\n",
       "      <th>0.75</th>\n",
       "      <td>16.0</td>\n",
       "      <td>3.0</td>\n",
       "      <td>4008.84</td>\n",
       "    </tr>\n",
       "  </tbody>\n",
       "</table>\n",
       "</div>"
      ],
      "text/plain": [
       "      recency  frequency  monetary_value\n",
       "0.25      2.0        1.0          765.00\n",
       "0.50      8.0        2.0         1834.48\n",
       "0.75     16.0        3.0         4008.84"
      ]
     },
     "execution_count": 21,
     "metadata": {},
     "output_type": "execute_result"
    }
   ],
   "source": [
    "quantiles"
   ]
  },
  {
   "cell_type": "code",
   "execution_count": 22,
   "id": "0b8d9df0-092a-4a1d-8a97-8c2cd70152f1",
   "metadata": {},
   "outputs": [],
   "source": [
    "# функция для R класса, т.к его логига откличается от остальных - чем меньше значение Recency, тем лучше\n",
    "def RClass(value,columns,quantiles):\n",
    "    if value <= quantiles[columns][0.25]:\n",
    "        return 1\n",
    "    elif value <= quantiles[columns][0.50]:\n",
    "        return 2\n",
    "    elif value <= quantiles[columns][0.75]:\n",
    "        return 3\n",
    "    else:\n",
    "        return 4\n",
    "    \n",
    "# функция для F и M класса, у них другая логика, чем выше значение тем лучше класс\n",
    "def FMClass(value, columns, quantiles):\n",
    "    if value <= quantiles[columns][0.25]:\n",
    "        return 4\n",
    "    elif value <= quantiles[columns][0.50]:\n",
    "        return 3\n",
    "    elif value <= quantiles[columns][0.75]:\n",
    "        return 2\n",
    "    else:\n",
    "        return 1"
   ]
  },
  {
   "cell_type": "code",
   "execution_count": 23,
   "id": "22b0c162-8eb1-460f-ab60-423eea1352c7",
   "metadata": {},
   "outputs": [],
   "source": [
    "# создаю отдельные колонки со значением сегментов, применяя к метриками соответствующие функции из пердыдущего шага\n",
    "rfmSegmentation['R_Quartile']=rfmSegmentation['recency'].apply(RClass, args=('recency',quantiles))\n",
    "rfmSegmentation['F_Quartile']=rfmSegmentation['frequency'].apply(FMClass, args=('frequency',quantiles))\n",
    "rfmSegmentation['M_Quartile']=rfmSegmentation['monetary_value'].apply(FMClass, args=('monetary_value',quantiles))\n"
   ]
  },
  {
   "cell_type": "code",
   "execution_count": 24,
   "id": "5ce6a22b-3b7a-4f40-bcae-31c03739b341",
   "metadata": {},
   "outputs": [],
   "source": [
    "# получаю финальный сегмент RFM\n",
    "\n",
    "rfmSegmentation['RFMClass'] = rfmSegmentation.R_Quartile.map(str)\\\n",
    "                        + rfmSegmentation.F_Quartile.map(str)\\\n",
    "                        + rfmSegmentation.M_Quartile.map(str)\n"
   ]
  },
  {
   "cell_type": "code",
   "execution_count": 25,
   "id": "d5d3c69e-fd0c-45fc-a745-1993cf194faa",
   "metadata": {},
   "outputs": [
    {
     "data": {
      "text/html": [
       "<div>\n",
       "<style scoped>\n",
       "    .dataframe tbody tr th:only-of-type {\n",
       "        vertical-align: middle;\n",
       "    }\n",
       "\n",
       "    .dataframe tbody tr th {\n",
       "        vertical-align: top;\n",
       "    }\n",
       "\n",
       "    .dataframe thead th {\n",
       "        text-align: right;\n",
       "    }\n",
       "</style>\n",
       "<table border=\"1\" class=\"dataframe\">\n",
       "  <thead>\n",
       "    <tr style=\"text-align: right;\">\n",
       "      <th></th>\n",
       "      <th>CustomerCode</th>\n",
       "      <th>recency</th>\n",
       "      <th>frequency</th>\n",
       "      <th>monetary_value</th>\n",
       "      <th>R_Quartile</th>\n",
       "      <th>F_Quartile</th>\n",
       "      <th>M_Quartile</th>\n",
       "      <th>RFMClass</th>\n",
       "    </tr>\n",
       "  </thead>\n",
       "  <tbody>\n",
       "    <tr>\n",
       "      <th>0</th>\n",
       "      <td>02213019</td>\n",
       "      <td>19</td>\n",
       "      <td>1</td>\n",
       "      <td>1609.20</td>\n",
       "      <td>4</td>\n",
       "      <td>4</td>\n",
       "      <td>3</td>\n",
       "      <td>443</td>\n",
       "    </tr>\n",
       "    <tr>\n",
       "      <th>1</th>\n",
       "      <td>02213042</td>\n",
       "      <td>22</td>\n",
       "      <td>3</td>\n",
       "      <td>9685.48</td>\n",
       "      <td>4</td>\n",
       "      <td>2</td>\n",
       "      <td>1</td>\n",
       "      <td>421</td>\n",
       "    </tr>\n",
       "    <tr>\n",
       "      <th>2</th>\n",
       "      <td>02213071</td>\n",
       "      <td>29</td>\n",
       "      <td>1</td>\n",
       "      <td>415.00</td>\n",
       "      <td>4</td>\n",
       "      <td>4</td>\n",
       "      <td>4</td>\n",
       "      <td>444</td>\n",
       "    </tr>\n",
       "    <tr>\n",
       "      <th>3</th>\n",
       "      <td>02213088</td>\n",
       "      <td>23</td>\n",
       "      <td>1</td>\n",
       "      <td>305.00</td>\n",
       "      <td>4</td>\n",
       "      <td>4</td>\n",
       "      <td>4</td>\n",
       "      <td>444</td>\n",
       "    </tr>\n",
       "    <tr>\n",
       "      <th>4</th>\n",
       "      <td>02213092</td>\n",
       "      <td>25</td>\n",
       "      <td>1</td>\n",
       "      <td>1412.88</td>\n",
       "      <td>4</td>\n",
       "      <td>4</td>\n",
       "      <td>3</td>\n",
       "      <td>443</td>\n",
       "    </tr>\n",
       "  </tbody>\n",
       "</table>\n",
       "</div>"
      ],
      "text/plain": [
       "  CustomerCode  recency  frequency  monetary_value  R_Quartile  F_Quartile  \\\n",
       "0     02213019       19          1         1609.20           4           4   \n",
       "1     02213042       22          3         9685.48           4           2   \n",
       "2     02213071       29          1          415.00           4           4   \n",
       "3     02213088       23          1          305.00           4           4   \n",
       "4     02213092       25          1         1412.88           4           4   \n",
       "\n",
       "   M_Quartile RFMClass  \n",
       "0           3      443  \n",
       "1           1      421  \n",
       "2           4      444  \n",
       "3           4      444  \n",
       "4           3      443  "
      ]
     },
     "execution_count": 25,
     "metadata": {},
     "output_type": "execute_result"
    }
   ],
   "source": [
    "# итоговый датасет\n",
    "rfmSegmentation.head()"
   ]
  },
  {
   "cell_type": "markdown",
   "id": "4acbf954-f093-45be-8702-c86e54115966",
   "metadata": {},
   "source": [
    "## Вопрос 1:\n",
    "Какое максимальное кол-во покупок было совершено одним пользователем?"
   ]
  },
  {
   "cell_type": "code",
   "execution_count": 26,
   "id": "cf03be01-fb50-439f-9053-17321cf52435",
   "metadata": {},
   "outputs": [
    {
     "data": {
      "text/plain": [
       "204"
      ]
     },
     "execution_count": 26,
     "metadata": {},
     "output_type": "execute_result"
    }
   ],
   "source": [
    "rfmSegmentation.frequency.max()"
   ]
  },
  {
   "cell_type": "markdown",
   "id": "9221fe64-e3ca-4979-8ca4-2b4db701b7cf",
   "metadata": {},
   "source": [
    "Ответ: 204"
   ]
  },
  {
   "cell_type": "markdown",
   "id": "4ecd6d2f-cfd8-417f-bbc6-2a02fa6f1201",
   "metadata": {},
   "source": [
    "## Вопрос 2:\n",
    "Какая верхняя граница у суммы покупок у пользователей с классом 4 в подсегменте М? (Другими словами: пользователи, у которых сумма покупок от 0 до Х попадают в 4 класс в подсегменте М)"
   ]
  },
  {
   "cell_type": "code",
   "execution_count": 27,
   "id": "fb3c4ac3-586e-4cee-9d41-f5e8925c6f99",
   "metadata": {},
   "outputs": [
    {
     "data": {
      "text/html": [
       "<div>\n",
       "<style scoped>\n",
       "    .dataframe tbody tr th:only-of-type {\n",
       "        vertical-align: middle;\n",
       "    }\n",
       "\n",
       "    .dataframe tbody tr th {\n",
       "        vertical-align: top;\n",
       "    }\n",
       "\n",
       "    .dataframe thead th {\n",
       "        text-align: right;\n",
       "    }\n",
       "</style>\n",
       "<table border=\"1\" class=\"dataframe\">\n",
       "  <thead>\n",
       "    <tr style=\"text-align: right;\">\n",
       "      <th></th>\n",
       "      <th>recency</th>\n",
       "      <th>frequency</th>\n",
       "      <th>monetary_value</th>\n",
       "    </tr>\n",
       "  </thead>\n",
       "  <tbody>\n",
       "    <tr>\n",
       "      <th>0.25</th>\n",
       "      <td>2.0</td>\n",
       "      <td>1.0</td>\n",
       "      <td>765.00</td>\n",
       "    </tr>\n",
       "    <tr>\n",
       "      <th>0.50</th>\n",
       "      <td>8.0</td>\n",
       "      <td>2.0</td>\n",
       "      <td>1834.48</td>\n",
       "    </tr>\n",
       "    <tr>\n",
       "      <th>0.75</th>\n",
       "      <td>16.0</td>\n",
       "      <td>3.0</td>\n",
       "      <td>4008.84</td>\n",
       "    </tr>\n",
       "  </tbody>\n",
       "</table>\n",
       "</div>"
      ],
      "text/plain": [
       "      recency  frequency  monetary_value\n",
       "0.25      2.0        1.0          765.00\n",
       "0.50      8.0        2.0         1834.48\n",
       "0.75     16.0        3.0         4008.84"
      ]
     },
     "execution_count": 27,
     "metadata": {},
     "output_type": "execute_result"
    }
   ],
   "source": [
    "quantiles"
   ]
  },
  {
   "cell_type": "markdown",
   "id": "f5c9b4f0-07a8-474f-8ffa-27c1e900a9a9",
   "metadata": {},
   "source": [
    "Ответ: верхняя граница по квантилю 0.25 - 765."
   ]
  },
  {
   "cell_type": "markdown",
   "id": "975c3545-6094-4810-8f68-b80c89ee55db",
   "metadata": {},
   "source": [
    "## Вопрос 3:\n",
    "Какая нижняя граница у количества покупок у пользователей с классом 1 в подсегменте F?"
   ]
  },
  {
   "cell_type": "code",
   "execution_count": 28,
   "id": "3c620afe-5ffe-43e9-82f7-0bb228fcad08",
   "metadata": {},
   "outputs": [
    {
     "data": {
      "text/html": [
       "<div>\n",
       "<style scoped>\n",
       "    .dataframe tbody tr th:only-of-type {\n",
       "        vertical-align: middle;\n",
       "    }\n",
       "\n",
       "    .dataframe tbody tr th {\n",
       "        vertical-align: top;\n",
       "    }\n",
       "\n",
       "    .dataframe thead th {\n",
       "        text-align: right;\n",
       "    }\n",
       "</style>\n",
       "<table border=\"1\" class=\"dataframe\">\n",
       "  <thead>\n",
       "    <tr style=\"text-align: right;\">\n",
       "      <th></th>\n",
       "      <th>recency</th>\n",
       "      <th>frequency</th>\n",
       "      <th>monetary_value</th>\n",
       "    </tr>\n",
       "  </thead>\n",
       "  <tbody>\n",
       "    <tr>\n",
       "      <th>0.25</th>\n",
       "      <td>2.0</td>\n",
       "      <td>1.0</td>\n",
       "      <td>765.00</td>\n",
       "    </tr>\n",
       "    <tr>\n",
       "      <th>0.50</th>\n",
       "      <td>8.0</td>\n",
       "      <td>2.0</td>\n",
       "      <td>1834.48</td>\n",
       "    </tr>\n",
       "    <tr>\n",
       "      <th>0.75</th>\n",
       "      <td>16.0</td>\n",
       "      <td>3.0</td>\n",
       "      <td>4008.84</td>\n",
       "    </tr>\n",
       "  </tbody>\n",
       "</table>\n",
       "</div>"
      ],
      "text/plain": [
       "      recency  frequency  monetary_value\n",
       "0.25      2.0        1.0          765.00\n",
       "0.50      8.0        2.0         1834.48\n",
       "0.75     16.0        3.0         4008.84"
      ]
     },
     "execution_count": 28,
     "metadata": {},
     "output_type": "execute_result"
    }
   ],
   "source": [
    "quantiles"
   ]
  },
  {
   "cell_type": "markdown",
   "id": "ba45fa40-16de-431b-8cf6-7a2fbb45123c",
   "metadata": {},
   "source": [
    "Ответ: значение нижней границы количества покупок в подсегменте F - 4."
   ]
  },
  {
   "cell_type": "markdown",
   "id": "958d1a8a-af75-48e4-91cd-0670d4a1385e",
   "metadata": {},
   "source": [
    "## Вопрос 4:\n",
    "Какая верхняя граница у количества покупок у пользователей с классом 2 в подсегменте R?"
   ]
  },
  {
   "cell_type": "code",
   "execution_count": 37,
   "id": "c9783c2c-4e41-46b2-841c-8d6b662cd51a",
   "metadata": {},
   "outputs": [
    {
     "data": {
      "text/html": [
       "<div>\n",
       "<style scoped>\n",
       "    .dataframe tbody tr th:only-of-type {\n",
       "        vertical-align: middle;\n",
       "    }\n",
       "\n",
       "    .dataframe tbody tr th {\n",
       "        vertical-align: top;\n",
       "    }\n",
       "\n",
       "    .dataframe thead th {\n",
       "        text-align: right;\n",
       "    }\n",
       "</style>\n",
       "<table border=\"1\" class=\"dataframe\">\n",
       "  <thead>\n",
       "    <tr style=\"text-align: right;\">\n",
       "      <th></th>\n",
       "      <th>recency</th>\n",
       "      <th>frequency</th>\n",
       "      <th>monetary_value</th>\n",
       "    </tr>\n",
       "  </thead>\n",
       "  <tbody>\n",
       "    <tr>\n",
       "      <th>0.25</th>\n",
       "      <td>2.0</td>\n",
       "      <td>1.0</td>\n",
       "      <td>765.00</td>\n",
       "    </tr>\n",
       "    <tr>\n",
       "      <th>0.50</th>\n",
       "      <td>8.0</td>\n",
       "      <td>2.0</td>\n",
       "      <td>1834.48</td>\n",
       "    </tr>\n",
       "    <tr>\n",
       "      <th>0.75</th>\n",
       "      <td>16.0</td>\n",
       "      <td>3.0</td>\n",
       "      <td>4008.84</td>\n",
       "    </tr>\n",
       "  </tbody>\n",
       "</table>\n",
       "</div>"
      ],
      "text/plain": [
       "      recency  frequency  monetary_value\n",
       "0.25      2.0        1.0          765.00\n",
       "0.50      8.0        2.0         1834.48\n",
       "0.75     16.0        3.0         4008.84"
      ]
     },
     "execution_count": 37,
     "metadata": {},
     "output_type": "execute_result"
    }
   ],
   "source": [
    "quantiles"
   ]
  },
  {
   "cell_type": "markdown",
   "id": "e2d3768f-ed19-42d1-adfa-78fa2309808c",
   "metadata": {},
   "source": [
    "Ответ: 2"
   ]
  },
  {
   "cell_type": "markdown",
   "id": "6012ac47-6903-40cc-9ed0-a6c4418f753a",
   "metadata": {},
   "source": [
    "## Вопрос 5: \n",
    "Сколько пользователей попало в сегмент 111?"
   ]
  },
  {
   "cell_type": "code",
   "execution_count": 34,
   "id": "64961b2b-b2e1-4d41-82a9-bab89f21bc01",
   "metadata": {},
   "outputs": [
    {
     "data": {
      "text/plain": [
       "9705"
      ]
     },
     "execution_count": 34,
     "metadata": {},
     "output_type": "execute_result"
    }
   ],
   "source": [
    "rfmSegmentation.query('RFMClass == \"111\"').shape[0]"
   ]
  },
  {
   "cell_type": "markdown",
   "id": "99c47afb-8a85-4425-8153-2db9a79e2a83",
   "metadata": {},
   "source": [
    "Ответ: 9705"
   ]
  },
  {
   "cell_type": "markdown",
   "id": "618ee441-7df0-477d-9ced-2a4b7e647603",
   "metadata": {},
   "source": [
    "## Вопрос 6:\n",
    "Сколько пользователей попало в сегмент 311"
   ]
  },
  {
   "cell_type": "code",
   "execution_count": 35,
   "id": "d96fd94a-9210-4709-9848-9fc2019495c3",
   "metadata": {},
   "outputs": [
    {
     "data": {
      "text/plain": [
       "1609"
      ]
     },
     "execution_count": 35,
     "metadata": {},
     "output_type": "execute_result"
    }
   ],
   "source": [
    "rfmSegmentation.query('RFMClass == \"311\"').shape[0]"
   ]
  },
  {
   "cell_type": "markdown",
   "id": "597b3d3a-8afb-42e1-97ee-5cd0b467dcb7",
   "metadata": {},
   "source": [
    "Ответ: 1609"
   ]
  },
  {
   "cell_type": "markdown",
   "id": "101960a4-ac4b-4789-b19c-629580e6539b",
   "metadata": {},
   "source": [
    "## Вопрос 7:\n",
    "В каком RFM-сегменте самое большое кол-во пользователей?"
   ]
  },
  {
   "cell_type": "code",
   "execution_count": 41,
   "id": "1fe48e73-9f34-43ce-a510-b6485f3f3034",
   "metadata": {},
   "outputs": [
    {
     "data": {
      "text/plain": [
       "RFMClass\n",
       "444    10624\n",
       "111     9705\n",
       "443     6729\n",
       "344     6593\n",
       "211     5847\n",
       "       ...  \n",
       "424       63\n",
       "214       60\n",
       "114       60\n",
       "314       33\n",
       "414        2\n",
       "Length: 64, dtype: int64"
      ]
     },
     "execution_count": 41,
     "metadata": {},
     "output_type": "execute_result"
    }
   ],
   "source": [
    "rfmSegmentation.groupby('RFMClass').size().sort_values(ascending = False)"
   ]
  },
  {
   "cell_type": "code",
   "execution_count": null,
   "id": "019275c6-a1b3-4332-b9df-45ff6a7cc19b",
   "metadata": {},
   "outputs": [],
   "source": [
    "Ответ: сегмент 444"
   ]
  },
  {
   "cell_type": "markdown",
   "id": "0a527a23-78d3-44ba-a544-feca2bacf209",
   "metadata": {},
   "source": [
    "## Вопрос 8:\n",
    "В каком RFM-сегменте самое маленькое кол-во пользователей?"
   ]
  },
  {
   "cell_type": "code",
   "execution_count": 42,
   "id": "afa2ef74-7ee2-407a-a328-3672f4841c66",
   "metadata": {},
   "outputs": [
    {
     "data": {
      "text/plain": [
       "RFMClass\n",
       "414        2\n",
       "314       33\n",
       "114       60\n",
       "214       60\n",
       "424       63\n",
       "       ...  \n",
       "211     5847\n",
       "344     6593\n",
       "443     6729\n",
       "111     9705\n",
       "444    10624\n",
       "Length: 64, dtype: int64"
      ]
     },
     "execution_count": 42,
     "metadata": {},
     "output_type": "execute_result"
    }
   ],
   "source": [
    "rfmSegmentation.groupby('RFMClass').size().sort_values(ascending = True)"
   ]
  },
  {
   "cell_type": "markdown",
   "id": "fdf9a51c-686e-43f4-ba1d-1aa2157ce74c",
   "metadata": {},
   "source": [
    "Ответ: 414"
   ]
  }
 ],
 "metadata": {
  "kernelspec": {
   "display_name": "Python 3 (ipykernel)",
   "language": "python",
   "name": "python3"
  },
  "language_info": {
   "codemirror_mode": {
    "name": "ipython",
    "version": 3
   },
   "file_extension": ".py",
   "mimetype": "text/x-python",
   "name": "python",
   "nbconvert_exporter": "python",
   "pygments_lexer": "ipython3",
   "version": "3.8.10"
  }
 },
 "nbformat": 4,
 "nbformat_minor": 5
}
