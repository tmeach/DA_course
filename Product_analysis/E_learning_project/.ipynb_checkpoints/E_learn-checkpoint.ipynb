{
 "cells": [
  {
   "cell_type": "markdown",
   "id": "0745fc1e-c352-487d-a935-087a5098a06b",
   "metadata": {},
   "source": [
    "#### Импорт необходимых библиотек"
   ]
  },
  {
   "cell_type": "code",
   "execution_count": 2,
   "id": "ef5e85bd-fdbf-472e-a2e0-29e592f98f49",
   "metadata": {},
   "outputs": [],
   "source": [
    "import pandas as pd\n",
    "import numpy as np"
   ]
  },
  {
   "cell_type": "code",
   "execution_count": null,
   "id": "8d7a58e9",
   "metadata": {},
   "outputs": [],
   "source": [
    "assessments = pd.read_csv('assessments.csv')\n",
    "courses = pd.read_csv('courses.csv')\n",
    "studentAssessment = pd.read_csv('studentAssessment.csv')\n",
    "studentRegistration = pd.read_csv('studentRegistration.csv')"
   ]
  },
  {
   "cell_type": "markdown",
   "id": "851882cc-6444-4f0d-8b06-ec67d7509e13",
   "metadata": {},
   "source": [
    "#### Загрузка данных"
   ]
  },
  {
   "cell_type": "code",
   "execution_count": 3,
   "id": "29889571-2813-419d-a3df-f97434c49354",
   "metadata": {},
   "outputs": [
    {
     "data": {
      "text/html": [
       "<div>\n",
       "<style scoped>\n",
       "    .dataframe tbody tr th:only-of-type {\n",
       "        vertical-align: middle;\n",
       "    }\n",
       "\n",
       "    .dataframe tbody tr th {\n",
       "        vertical-align: top;\n",
       "    }\n",
       "\n",
       "    .dataframe thead th {\n",
       "        text-align: right;\n",
       "    }\n",
       "</style>\n",
       "<table border=\"1\" class=\"dataframe\">\n",
       "  <thead>\n",
       "    <tr style=\"text-align: right;\">\n",
       "      <th></th>\n",
       "      <th>code_module</th>\n",
       "      <th>code_presentation</th>\n",
       "      <th>id_assessment</th>\n",
       "      <th>assessment_type</th>\n",
       "      <th>date</th>\n",
       "      <th>weight</th>\n",
       "    </tr>\n",
       "  </thead>\n",
       "  <tbody>\n",
       "    <tr>\n",
       "      <th>0</th>\n",
       "      <td>AAA</td>\n",
       "      <td>2013J</td>\n",
       "      <td>1752</td>\n",
       "      <td>TMA</td>\n",
       "      <td>19.0</td>\n",
       "      <td>10.0</td>\n",
       "    </tr>\n",
       "    <tr>\n",
       "      <th>1</th>\n",
       "      <td>AAA</td>\n",
       "      <td>2013J</td>\n",
       "      <td>1753</td>\n",
       "      <td>TMA</td>\n",
       "      <td>54.0</td>\n",
       "      <td>20.0</td>\n",
       "    </tr>\n",
       "    <tr>\n",
       "      <th>2</th>\n",
       "      <td>AAA</td>\n",
       "      <td>2013J</td>\n",
       "      <td>1754</td>\n",
       "      <td>TMA</td>\n",
       "      <td>117.0</td>\n",
       "      <td>20.0</td>\n",
       "    </tr>\n",
       "    <tr>\n",
       "      <th>3</th>\n",
       "      <td>AAA</td>\n",
       "      <td>2013J</td>\n",
       "      <td>1755</td>\n",
       "      <td>TMA</td>\n",
       "      <td>166.0</td>\n",
       "      <td>20.0</td>\n",
       "    </tr>\n",
       "    <tr>\n",
       "      <th>4</th>\n",
       "      <td>AAA</td>\n",
       "      <td>2013J</td>\n",
       "      <td>1756</td>\n",
       "      <td>TMA</td>\n",
       "      <td>215.0</td>\n",
       "      <td>30.0</td>\n",
       "    </tr>\n",
       "  </tbody>\n",
       "</table>\n",
       "</div>"
      ],
      "text/plain": [
       "  code_module code_presentation  id_assessment assessment_type   date  weight\n",
       "0         AAA             2013J           1752             TMA   19.0    10.0\n",
       "1         AAA             2013J           1753             TMA   54.0    20.0\n",
       "2         AAA             2013J           1754             TMA  117.0    20.0\n",
       "3         AAA             2013J           1755             TMA  166.0    20.0\n",
       "4         AAA             2013J           1756             TMA  215.0    30.0"
      ]
     },
     "execution_count": 3,
     "metadata": {},
     "output_type": "execute_result"
    }
   ],
   "source": [
    "assessments.head()"
   ]
  },
  {
   "cell_type": "markdown",
   "id": "4fbe6830-1dc8-4367-9782-ec8021000842",
   "metadata": {},
   "source": [
    "### 1.Сколько студентов успешно сдали только один курс? (Успешная сдача — это зачёт по курсу на экзамене. Диапазон составляет от 0 до 100. Оценка ниже 40 неудачная/неуспешная сдача теста)\n",
    "1. Из таблицы studentAssessment отобрал только тех, кто сдал экзамен успешно (40+ баллов).\n",
    "2. Приджоинил к studentAssessment типы ассесментов из таблицы assessments, заранее отфильтровав только те, которые относятся к типу Exam.\n",
    "3. С помощью group by посчитал количество уникальных успешно сданных экзаменов для каждого студента.\n",
    "4. Посчитать количество студентов, у которых успешно сдан только 1 экзамен."
   ]
  },
  {
   "cell_type": "code",
   "execution_count": 4,
   "id": "f43d0015-a5c3-4003-b172-aea2a55a3aa7",
   "metadata": {},
   "outputs": [],
   "source": [
    "task_01 = studentAssessment.query('score>39').merge(assessments.query('assessment_type == \"Exam\"')[['id_assessment']].drop_duplicates(), how='inner', on='id_assessment')"
   ]
  },
  {
   "cell_type": "code",
   "execution_count": 5,
   "id": "34130713-88fb-4c20-b6ef-2c98521e3190",
   "metadata": {},
   "outputs": [
    {
     "data": {
      "text/html": [
       "<div>\n",
       "<style scoped>\n",
       "    .dataframe tbody tr th:only-of-type {\n",
       "        vertical-align: middle;\n",
       "    }\n",
       "\n",
       "    .dataframe tbody tr th {\n",
       "        vertical-align: top;\n",
       "    }\n",
       "\n",
       "    .dataframe thead th {\n",
       "        text-align: right;\n",
       "    }\n",
       "</style>\n",
       "<table border=\"1\" class=\"dataframe\">\n",
       "  <thead>\n",
       "    <tr style=\"text-align: right;\">\n",
       "      <th></th>\n",
       "      <th>id_assessment</th>\n",
       "      <th>id_student</th>\n",
       "      <th>date_submitted</th>\n",
       "      <th>is_banked</th>\n",
       "      <th>score</th>\n",
       "    </tr>\n",
       "  </thead>\n",
       "  <tbody>\n",
       "    <tr>\n",
       "      <th>0</th>\n",
       "      <td>24290</td>\n",
       "      <td>559706</td>\n",
       "      <td>234</td>\n",
       "      <td>0</td>\n",
       "      <td>78.0</td>\n",
       "    </tr>\n",
       "    <tr>\n",
       "      <th>1</th>\n",
       "      <td>24290</td>\n",
       "      <td>559770</td>\n",
       "      <td>230</td>\n",
       "      <td>0</td>\n",
       "      <td>54.0</td>\n",
       "    </tr>\n",
       "    <tr>\n",
       "      <th>2</th>\n",
       "      <td>24290</td>\n",
       "      <td>560114</td>\n",
       "      <td>230</td>\n",
       "      <td>0</td>\n",
       "      <td>64.0</td>\n",
       "    </tr>\n",
       "    <tr>\n",
       "      <th>3</th>\n",
       "      <td>24290</td>\n",
       "      <td>560311</td>\n",
       "      <td>234</td>\n",
       "      <td>0</td>\n",
       "      <td>100.0</td>\n",
       "    </tr>\n",
       "    <tr>\n",
       "      <th>4</th>\n",
       "      <td>24290</td>\n",
       "      <td>560494</td>\n",
       "      <td>230</td>\n",
       "      <td>0</td>\n",
       "      <td>92.0</td>\n",
       "    </tr>\n",
       "  </tbody>\n",
       "</table>\n",
       "</div>"
      ],
      "text/plain": [
       "   id_assessment  id_student  date_submitted  is_banked  score\n",
       "0          24290      559706             234          0   78.0\n",
       "1          24290      559770             230          0   54.0\n",
       "2          24290      560114             230          0   64.0\n",
       "3          24290      560311             234          0  100.0\n",
       "4          24290      560494             230          0   92.0"
      ]
     },
     "execution_count": 5,
     "metadata": {},
     "output_type": "execute_result"
    }
   ],
   "source": [
    "task_01.head()"
   ]
  },
  {
   "cell_type": "code",
   "execution_count": 6,
   "id": "eb019adf-1ee6-4dbb-9436-dcfa68a1e246",
   "metadata": {},
   "outputs": [],
   "source": [
    "task_01=task_01.groupby('id_student', as_index=False)[['id_assessment']].nunique().rename({'id_assessment':'success_count'}, axis=1)"
   ]
  },
  {
   "cell_type": "code",
   "execution_count": 7,
   "id": "5dd8a465-0662-4986-b4b1-89e74073b226",
   "metadata": {},
   "outputs": [
    {
     "data": {
      "text/html": [
       "<div>\n",
       "<style scoped>\n",
       "    .dataframe tbody tr th:only-of-type {\n",
       "        vertical-align: middle;\n",
       "    }\n",
       "\n",
       "    .dataframe tbody tr th {\n",
       "        vertical-align: top;\n",
       "    }\n",
       "\n",
       "    .dataframe thead th {\n",
       "        text-align: right;\n",
       "    }\n",
       "</style>\n",
       "<table border=\"1\" class=\"dataframe\">\n",
       "  <thead>\n",
       "    <tr style=\"text-align: right;\">\n",
       "      <th></th>\n",
       "      <th>id_student</th>\n",
       "      <th>success_count</th>\n",
       "    </tr>\n",
       "  </thead>\n",
       "  <tbody>\n",
       "    <tr>\n",
       "      <th>0</th>\n",
       "      <td>23698</td>\n",
       "      <td>1</td>\n",
       "    </tr>\n",
       "    <tr>\n",
       "      <th>1</th>\n",
       "      <td>24213</td>\n",
       "      <td>1</td>\n",
       "    </tr>\n",
       "    <tr>\n",
       "      <th>2</th>\n",
       "      <td>27116</td>\n",
       "      <td>1</td>\n",
       "    </tr>\n",
       "    <tr>\n",
       "      <th>3</th>\n",
       "      <td>28046</td>\n",
       "      <td>1</td>\n",
       "    </tr>\n",
       "    <tr>\n",
       "      <th>4</th>\n",
       "      <td>28787</td>\n",
       "      <td>1</td>\n",
       "    </tr>\n",
       "  </tbody>\n",
       "</table>\n",
       "</div>"
      ],
      "text/plain": [
       "   id_student  success_count\n",
       "0       23698              1\n",
       "1       24213              1\n",
       "2       27116              1\n",
       "3       28046              1\n",
       "4       28787              1"
      ]
     },
     "execution_count": 7,
     "metadata": {},
     "output_type": "execute_result"
    }
   ],
   "source": [
    "task_01.head()"
   ]
  },
  {
   "cell_type": "code",
   "execution_count": 8,
   "id": "bc44047b-791e-44b9-bb9b-10afd21d6ecf",
   "metadata": {},
   "outputs": [
    {
     "data": {
      "text/plain": [
       "id_student    3802\n",
       "dtype: int64"
      ]
     },
     "execution_count": 8,
     "metadata": {},
     "output_type": "execute_result"
    }
   ],
   "source": [
    "task_01.query('success_count==1')[['id_student']].nunique()"
   ]
  },
  {
   "cell_type": "markdown",
   "id": "1ca85950-23ee-4406-989a-e521c3f54772",
   "metadata": {},
   "source": [
    "### 2. Выявить самый сложный и самый простой экзамен: найти курсы и экзамены в рамках курса, которые обладают самой низкой и самой высокой завершаемостью\n",
    "1. Приджоинил к таблице studentAssessment типа ассессментов из таблицы assessment, отфильтровав только те, которые относятся к экзаменам.\n",
    "2. Посчитал количество уникальных успешных попыток для каждого экзамена с помощью groupby\n",
    "3. Посчитал количество неуспешных попыток\n",
    "4. Создал новое поле - завршаемость\n",
    "5. Вывести id ассессментов - самого сложного и самого простого\n"
   ]
  },
  {
   "cell_type": "code",
   "execution_count": 9,
   "id": "2f47e486-0bda-4d45-9c4b-e0302484452a",
   "metadata": {},
   "outputs": [],
   "source": [
    "task_02 = studentAssessment.merge(assessments.query('assessment_type == \"Exam\"')[['id_assessment']].drop_duplicates(), how='inner', on='id_assessment')"
   ]
  },
  {
   "cell_type": "code",
   "execution_count": 10,
   "id": "87aa7c83-3de7-4f66-9d1a-f7b6e89da834",
   "metadata": {},
   "outputs": [
    {
     "data": {
      "text/plain": [
       "0    25340\n",
       "1    24299\n",
       "2    25368\n",
       "3    24290\n",
       "4    25354\n",
       "5    25361\n",
       "Name: id_assessment, dtype: int64"
      ]
     },
     "execution_count": 10,
     "metadata": {},
     "output_type": "execute_result"
    }
   ],
   "source": [
    "task_02.assign(success = lambda x: (x.score > 39)\n",
    "        .astype(int)).groupby('id_assessment', as_index=False)[['success']].aggregate({'success':(np.sum, len)}).assign(success_rate = lambda row: row.success['sum']/ row.success.len).sort_values(by='success_rate').reset_index(drop=True).id_assessment"
   ]
  },
  {
   "cell_type": "markdown",
   "id": "1b9f20fb-b259-444a-b940-6bdd0fe85dd0",
   "metadata": {},
   "source": [
    "###### Ответ: самый сложный экзамен - 25340, самый простой экзамен - 25361"
   ]
  },
  {
   "cell_type": "markdown",
   "id": "25b7802e-a1ec-4284-b5d1-76cd32db34c5",
   "metadata": {},
   "source": [
    "### 3. По каждому предмету определить средний срок сдачи экзаменов (под сдачей понимаем последнее успешное прохождение экзамена студентом)"
   ]
  },
  {
   "cell_type": "code",
   "execution_count": 11,
   "id": "a79a6bae-e825-4879-a869-692d1a35ffd5",
   "metadata": {},
   "outputs": [],
   "source": [
    "task_3 = studentAssessment.merge(assessments.query('assessment_type == \"Exam\"')[['id_assessment', 'code_module']], how = 'inner', on = 'id_assessment')"
   ]
  },
  {
   "cell_type": "code",
   "execution_count": 12,
   "id": "4bb4bd96-718b-49f6-a361-4d1ad1d53419",
   "metadata": {},
   "outputs": [
    {
     "data": {
      "text/html": [
       "<div>\n",
       "<style scoped>\n",
       "    .dataframe tbody tr th:only-of-type {\n",
       "        vertical-align: middle;\n",
       "    }\n",
       "\n",
       "    .dataframe tbody tr th {\n",
       "        vertical-align: top;\n",
       "    }\n",
       "\n",
       "    .dataframe thead th {\n",
       "        text-align: right;\n",
       "    }\n",
       "</style>\n",
       "<table border=\"1\" class=\"dataframe\">\n",
       "  <thead>\n",
       "    <tr style=\"text-align: right;\">\n",
       "      <th></th>\n",
       "      <th>id_assessment</th>\n",
       "      <th>id_student</th>\n",
       "      <th>date_submitted</th>\n",
       "      <th>is_banked</th>\n",
       "      <th>score</th>\n",
       "      <th>code_module</th>\n",
       "    </tr>\n",
       "  </thead>\n",
       "  <tbody>\n",
       "    <tr>\n",
       "      <th>0</th>\n",
       "      <td>24290</td>\n",
       "      <td>558914</td>\n",
       "      <td>230</td>\n",
       "      <td>0</td>\n",
       "      <td>32.0</td>\n",
       "      <td>CCC</td>\n",
       "    </tr>\n",
       "    <tr>\n",
       "      <th>1</th>\n",
       "      <td>24290</td>\n",
       "      <td>559706</td>\n",
       "      <td>234</td>\n",
       "      <td>0</td>\n",
       "      <td>78.0</td>\n",
       "      <td>CCC</td>\n",
       "    </tr>\n",
       "    <tr>\n",
       "      <th>2</th>\n",
       "      <td>24290</td>\n",
       "      <td>559770</td>\n",
       "      <td>230</td>\n",
       "      <td>0</td>\n",
       "      <td>54.0</td>\n",
       "      <td>CCC</td>\n",
       "    </tr>\n",
       "    <tr>\n",
       "      <th>3</th>\n",
       "      <td>24290</td>\n",
       "      <td>560114</td>\n",
       "      <td>230</td>\n",
       "      <td>0</td>\n",
       "      <td>64.0</td>\n",
       "      <td>CCC</td>\n",
       "    </tr>\n",
       "    <tr>\n",
       "      <th>4</th>\n",
       "      <td>24290</td>\n",
       "      <td>560311</td>\n",
       "      <td>234</td>\n",
       "      <td>0</td>\n",
       "      <td>100.0</td>\n",
       "      <td>CCC</td>\n",
       "    </tr>\n",
       "  </tbody>\n",
       "</table>\n",
       "</div>"
      ],
      "text/plain": [
       "   id_assessment  id_student  date_submitted  is_banked  score code_module\n",
       "0          24290      558914             230          0   32.0         CCC\n",
       "1          24290      559706             234          0   78.0         CCC\n",
       "2          24290      559770             230          0   54.0         CCC\n",
       "3          24290      560114             230          0   64.0         CCC\n",
       "4          24290      560311             234          0  100.0         CCC"
      ]
     },
     "execution_count": 12,
     "metadata": {},
     "output_type": "execute_result"
    }
   ],
   "source": [
    "task_3.head()"
   ]
  },
  {
   "cell_type": "code",
   "execution_count": 13,
   "id": "028bef7a-b187-4272-8099-65562f90b3b4",
   "metadata": {},
   "outputs": [
    {
     "data": {
      "text/html": [
       "<div>\n",
       "<style scoped>\n",
       "    .dataframe tbody tr th:only-of-type {\n",
       "        vertical-align: middle;\n",
       "    }\n",
       "\n",
       "    .dataframe tbody tr th {\n",
       "        vertical-align: top;\n",
       "    }\n",
       "\n",
       "    .dataframe thead th {\n",
       "        text-align: right;\n",
       "    }\n",
       "</style>\n",
       "<table border=\"1\" class=\"dataframe\">\n",
       "  <thead>\n",
       "    <tr style=\"text-align: right;\">\n",
       "      <th></th>\n",
       "      <th>code_module</th>\n",
       "      <th>date_submitted</th>\n",
       "    </tr>\n",
       "  </thead>\n",
       "  <tbody>\n",
       "    <tr>\n",
       "      <th>0</th>\n",
       "      <td>CCC</td>\n",
       "      <td>239.408877</td>\n",
       "    </tr>\n",
       "    <tr>\n",
       "      <th>1</th>\n",
       "      <td>DDD</td>\n",
       "      <td>237.901445</td>\n",
       "    </tr>\n",
       "  </tbody>\n",
       "</table>\n",
       "</div>"
      ],
      "text/plain": [
       "  code_module  date_submitted\n",
       "0         CCC      239.408877\n",
       "1         DDD      237.901445"
      ]
     },
     "execution_count": 13,
     "metadata": {},
     "output_type": "execute_result"
    }
   ],
   "source": [
    "task_3.query('is_banked == 0').groupby('code_module', as_index = False).aggregate({'date_submitted':np.mean})"
   ]
  },
  {
   "cell_type": "markdown",
   "id": "38c8f0f7-f107-44bd-8e55-33adca3e0f3d",
   "metadata": {},
   "source": [
    "### 4. Выявить самые популярные курсы (ТОП-3) по количеству регистраций на них. А также курсы с самым большим оттоком (ТОП-3)\n",
    "\n",
    "1. Для каждого семестра в таблице studentRegistration рассчитал уникальное количество зарегистрировавшихся\n",
    "2. Для каждого семестра в таблице studentRegistration рассчитал уникальное количество отписавшихся"
   ]
  },
  {
   "cell_type": "code",
   "execution_count": 14,
   "id": "a3be744b-750f-4aa4-acd1-4d834a6398f0",
   "metadata": {},
   "outputs": [],
   "source": [
    "task_4_top_3 = studentRegistration.groupby('code_module', as_index=False).id_student.nunique().sort_values('id_student', ascending=False).rename({'id_student':'registrations_count'}, axis=1).head(3)"
   ]
  },
  {
   "cell_type": "code",
   "execution_count": 15,
   "id": "b0a8ebfd-65d6-4ac7-82a8-205ac51ed241",
   "metadata": {},
   "outputs": [
    {
     "data": {
      "text/html": [
       "<div>\n",
       "<style scoped>\n",
       "    .dataframe tbody tr th:only-of-type {\n",
       "        vertical-align: middle;\n",
       "    }\n",
       "\n",
       "    .dataframe tbody tr th {\n",
       "        vertical-align: top;\n",
       "    }\n",
       "\n",
       "    .dataframe thead th {\n",
       "        text-align: right;\n",
       "    }\n",
       "</style>\n",
       "<table border=\"1\" class=\"dataframe\">\n",
       "  <thead>\n",
       "    <tr style=\"text-align: right;\">\n",
       "      <th></th>\n",
       "      <th>code_module</th>\n",
       "      <th>registrations_count</th>\n",
       "    </tr>\n",
       "  </thead>\n",
       "  <tbody>\n",
       "    <tr>\n",
       "      <th>1</th>\n",
       "      <td>BBB</td>\n",
       "      <td>7692</td>\n",
       "    </tr>\n",
       "    <tr>\n",
       "      <th>5</th>\n",
       "      <td>FFF</td>\n",
       "      <td>7397</td>\n",
       "    </tr>\n",
       "    <tr>\n",
       "      <th>3</th>\n",
       "      <td>DDD</td>\n",
       "      <td>5848</td>\n",
       "    </tr>\n",
       "  </tbody>\n",
       "</table>\n",
       "</div>"
      ],
      "text/plain": [
       "  code_module  registrations_count\n",
       "1         BBB                 7692\n",
       "5         FFF                 7397\n",
       "3         DDD                 5848"
      ]
     },
     "execution_count": 15,
     "metadata": {},
     "output_type": "execute_result"
    }
   ],
   "source": [
    "task_4_top_3"
   ]
  },
  {
   "cell_type": "code",
   "execution_count": 16,
   "id": "bb87fe2e-ab55-4133-b71c-1a02101ca028",
   "metadata": {},
   "outputs": [],
   "source": [
    "tasl_4_top_3_churn = studentRegistration[~studentRegistration.date_unregistration.isna()].groupby('code_module', as_index=False).id_student.nunique().sort_values('id_student', ascending=False).rename({'id_student':'unregistration_count'}, axis=1).head(3)"
   ]
  },
  {
   "cell_type": "code",
   "execution_count": 17,
   "id": "4ac51478-7fca-4a68-8fda-3cd7ee41b593",
   "metadata": {},
   "outputs": [
    {
     "data": {
      "text/html": [
       "<div>\n",
       "<style scoped>\n",
       "    .dataframe tbody tr th:only-of-type {\n",
       "        vertical-align: middle;\n",
       "    }\n",
       "\n",
       "    .dataframe tbody tr th {\n",
       "        vertical-align: top;\n",
       "    }\n",
       "\n",
       "    .dataframe thead th {\n",
       "        text-align: right;\n",
       "    }\n",
       "</style>\n",
       "<table border=\"1\" class=\"dataframe\">\n",
       "  <thead>\n",
       "    <tr style=\"text-align: right;\">\n",
       "      <th></th>\n",
       "      <th>code_module</th>\n",
       "      <th>unregistration_count</th>\n",
       "    </tr>\n",
       "  </thead>\n",
       "  <tbody>\n",
       "    <tr>\n",
       "      <th>1</th>\n",
       "      <td>BBB</td>\n",
       "      <td>2314</td>\n",
       "    </tr>\n",
       "    <tr>\n",
       "      <th>5</th>\n",
       "      <td>FFF</td>\n",
       "      <td>2249</td>\n",
       "    </tr>\n",
       "    <tr>\n",
       "      <th>3</th>\n",
       "      <td>DDD</td>\n",
       "      <td>2065</td>\n",
       "    </tr>\n",
       "  </tbody>\n",
       "</table>\n",
       "</div>"
      ],
      "text/plain": [
       "  code_module  unregistration_count\n",
       "1         BBB                  2314\n",
       "5         FFF                  2249\n",
       "3         DDD                  2065"
      ]
     },
     "execution_count": 17,
     "metadata": {},
     "output_type": "execute_result"
    }
   ],
   "source": [
    "tasl_4_top_3_churn"
   ]
  },
  {
   "cell_type": "markdown",
   "id": "b3a79483-0358-4395-8b63-21f870f9c5e1",
   "metadata": {},
   "source": [
    "### 5. Написать функцию на python, позволяющую строить когортный (семестровый) анализ. В период с начала 2013 по конец 2014 выявить семестр с самой низкой завершаемостью курсов и самыми долгими средними сроками сдачи курсов.\n",
    "\n",
    "1. Из таблицы studentAssessment выдедил только те экзамены, которые не были зачтены ранее.\n",
    "2. Рассчитал на основе поля score факт успешности экзамена.\n",
    "3. Для успешных экзаменов выделил средние сроки их сдачи.\n",
    "4. Для каждого семестра рассчитал среднюю завершаемость и средние сроки сдачи\n",
    "5. Разметка студентов по кластерам с помощью np.digitize"
   ]
  },
  {
   "cell_type": "code",
   "execution_count": 18,
   "id": "ec833e49-67e1-4878-ac73-7fadf6b17867",
   "metadata": {},
   "outputs": [],
   "source": [
    "task_5 = studentAssessment.query('is_banked == 0').merge(assessments.query('assessment_type == \"Exam\"')[['id_assessment','code_presentation']].drop_duplicates(), how = 'inner', on = 'id_assessment')"
   ]
  },
  {
   "cell_type": "code",
   "execution_count": 19,
   "id": "3fb33553-2d60-485b-90a9-9f590b540b72",
   "metadata": {},
   "outputs": [],
   "source": [
    "task_5=task_5.assign(success = lambda x: (x.score > 39).astype(int), success_date_submitted = lambda x: x.success * x.date_submitted)"
   ]
  },
  {
   "cell_type": "code",
   "execution_count": 20,
   "id": "b4bcac5c-36c5-408d-89e5-e792060ef0fe",
   "metadata": {},
   "outputs": [],
   "source": [
    "task_5=task_5.groupby('code_presentation', as_index = False).aggregate({'success':[np.mean], 'success_date_submitted':[lambda x: np.average(x, weights=(x>0))]})"
   ]
  },
  {
   "cell_type": "code",
   "execution_count": 21,
   "id": "7c0f2d24-c175-44a3-8cd1-9ae7f98ba975",
   "metadata": {},
   "outputs": [],
   "source": [
    "task_5.columns = task_5.columns.droplevel(level=1)"
   ]
  },
  {
   "cell_type": "code",
   "execution_count": 22,
   "id": "855dac1f-afde-436c-91c4-2020711254b3",
   "metadata": {},
   "outputs": [
    {
     "data": {
      "text/html": [
       "<div>\n",
       "<style scoped>\n",
       "    .dataframe tbody tr th:only-of-type {\n",
       "        vertical-align: middle;\n",
       "    }\n",
       "\n",
       "    .dataframe tbody tr th {\n",
       "        vertical-align: top;\n",
       "    }\n",
       "\n",
       "    .dataframe thead th {\n",
       "        text-align: right;\n",
       "    }\n",
       "</style>\n",
       "<table border=\"1\" class=\"dataframe\">\n",
       "  <thead>\n",
       "    <tr style=\"text-align: right;\">\n",
       "      <th></th>\n",
       "      <th>code_presentation</th>\n",
       "      <th>success</th>\n",
       "      <th>success_date_submitted</th>\n",
       "    </tr>\n",
       "  </thead>\n",
       "  <tbody>\n",
       "    <tr>\n",
       "      <th>0</th>\n",
       "      <td>2013B</td>\n",
       "      <td>0.837209</td>\n",
       "      <td>230.164683</td>\n",
       "    </tr>\n",
       "    <tr>\n",
       "      <th>1</th>\n",
       "      <td>2013J</td>\n",
       "      <td>0.907025</td>\n",
       "      <td>239.509112</td>\n",
       "    </tr>\n",
       "    <tr>\n",
       "      <th>2</th>\n",
       "      <td>2014B</td>\n",
       "      <td>0.904013</td>\n",
       "      <td>232.997389</td>\n",
       "    </tr>\n",
       "    <tr>\n",
       "      <th>3</th>\n",
       "      <td>2014J</td>\n",
       "      <td>0.878659</td>\n",
       "      <td>243.680279</td>\n",
       "    </tr>\n",
       "  </tbody>\n",
       "</table>\n",
       "</div>"
      ],
      "text/plain": [
       "  code_presentation   success  success_date_submitted\n",
       "0             2013B  0.837209              230.164683\n",
       "1             2013J  0.907025              239.509112\n",
       "2             2014B  0.904013              232.997389\n",
       "3             2014J  0.878659              243.680279"
      ]
     },
     "execution_count": 22,
     "metadata": {},
     "output_type": "execute_result"
    }
   ],
   "source": [
    "task_5.head()"
   ]
  },
  {
   "cell_type": "markdown",
   "id": "4bba736b-63a3-4ad4-899a-816bd1c13103",
   "metadata": {},
   "source": [
    "### 6. Используя python, постройте адаптированные RFM-кластеры студентов, чтобы качественно оценить аудиторию. В адаптированной кластеризации можно выбрать следующие метрики: R - среднее время сдачи одного экзамена, F - завершаемость курсов, M - среднее количество баллов, получаемое за экзамен.\n",
    " \n",
    "1. Из таблицы studentAssessment отфильтровал те экзамены, которые не были перезачтены (is_banked ==0)\n",
    "2. К этому датасету присоединил таблицу assessments, предварительно отфильтровал только те значения, в которых assessment_type == \"Exam, и отобрал из assessments  только две колонки - id_assessment, code_presentation.\n",
    "3. С помощью group by и np.mean посчитал для каждого студента средние показатели: завершаемость курса, время сдачи одного экзамена, количество баллов.\n",
    "4. Получил интервалы по 25, 50 и 75 персентилям для каждой метрики (intervals)\n",
    "5. Разметка студентов по кластерам с помощью np.digitize\n",
    " \n",
    " "
   ]
  },
  {
   "cell_type": "code",
   "execution_count": 46,
   "id": "8ca6f4fb-e7db-4258-8041-0b6139c6fabb",
   "metadata": {},
   "outputs": [],
   "source": [
    "def average (x):\n",
    "    try:\n",
    "        return np.average(x, weights=(x>0))\n",
    "    except:\n",
    "        return 0"
   ]
  },
  {
   "cell_type": "code",
   "execution_count": 47,
   "id": "13cd8152-f595-4d94-88bf-83bd1a891383",
   "metadata": {},
   "outputs": [],
   "source": [
    "prep = studentAssessment.query('is_banked ==0').merge(assessments.query('assessment_type == \"Exam\"')[['id_assessment', 'code_presentation']].drop_duplicates(), how='inner', on='id_assessment')"
   ]
  },
  {
   "cell_type": "code",
   "execution_count": 48,
   "id": "572ee1bb-6fbf-48a3-b27c-cfa57a20773c",
   "metadata": {},
   "outputs": [],
   "source": [
    "prep=prep.assign(success = lambda x: (x.score > 39).astype(int), success_date_submitted = lambda x: x.success * x.date_submitted).groupby('id_student', as_index=False).agg({'success':np.mean, 'success_date_submitted': np.mean, 'score':np.mean})"
   ]
  },
  {
   "cell_type": "code",
   "execution_count": 49,
   "id": "d1ab85c7-882f-49a2-89cd-4defd2670aef",
   "metadata": {},
   "outputs": [
    {
     "data": {
      "text/html": [
       "<div>\n",
       "<style scoped>\n",
       "    .dataframe tbody tr th:only-of-type {\n",
       "        vertical-align: middle;\n",
       "    }\n",
       "\n",
       "    .dataframe tbody tr th {\n",
       "        vertical-align: top;\n",
       "    }\n",
       "\n",
       "    .dataframe thead th {\n",
       "        text-align: right;\n",
       "    }\n",
       "</style>\n",
       "<table border=\"1\" class=\"dataframe\">\n",
       "  <thead>\n",
       "    <tr style=\"text-align: right;\">\n",
       "      <th></th>\n",
       "      <th>id_student</th>\n",
       "      <th>success</th>\n",
       "      <th>success_date_submitted</th>\n",
       "      <th>score</th>\n",
       "    </tr>\n",
       "  </thead>\n",
       "  <tbody>\n",
       "    <tr>\n",
       "      <th>0</th>\n",
       "      <td>23698</td>\n",
       "      <td>1.0</td>\n",
       "      <td>243.0</td>\n",
       "      <td>80.0</td>\n",
       "    </tr>\n",
       "    <tr>\n",
       "      <th>1</th>\n",
       "      <td>24213</td>\n",
       "      <td>1.0</td>\n",
       "      <td>236.0</td>\n",
       "      <td>58.0</td>\n",
       "    </tr>\n",
       "    <tr>\n",
       "      <th>2</th>\n",
       "      <td>27116</td>\n",
       "      <td>1.0</td>\n",
       "      <td>243.0</td>\n",
       "      <td>96.0</td>\n",
       "    </tr>\n",
       "    <tr>\n",
       "      <th>3</th>\n",
       "      <td>28046</td>\n",
       "      <td>1.0</td>\n",
       "      <td>237.0</td>\n",
       "      <td>40.0</td>\n",
       "    </tr>\n",
       "    <tr>\n",
       "      <th>4</th>\n",
       "      <td>28787</td>\n",
       "      <td>1.0</td>\n",
       "      <td>243.0</td>\n",
       "      <td>44.0</td>\n",
       "    </tr>\n",
       "  </tbody>\n",
       "</table>\n",
       "</div>"
      ],
      "text/plain": [
       "   id_student  success  success_date_submitted  score\n",
       "0       23698      1.0                   243.0   80.0\n",
       "1       24213      1.0                   236.0   58.0\n",
       "2       27116      1.0                   243.0   96.0\n",
       "3       28046      1.0                   237.0   40.0\n",
       "4       28787      1.0                   243.0   44.0"
      ]
     },
     "execution_count": 49,
     "metadata": {},
     "output_type": "execute_result"
    }
   ],
   "source": [
    "prep.head()"
   ]
  },
  {
   "cell_type": "code",
   "execution_count": 50,
   "id": "3ce69e65-2225-449e-8cfc-75c3004083a4",
   "metadata": {},
   "outputs": [],
   "source": [
    "intervals = {\n",
    "    'R': list(prep.success_date_submitted.describe())[3:],\n",
    "    'F': list(prep.success.describe())[3:5],\n",
    "    'M': list(prep.score.describe())[3:]\n",
    "}"
   ]
  },
  {
   "cell_type": "code",
   "execution_count": 51,
   "id": "2501be4e-781d-4656-a31c-ed404ae3b600",
   "metadata": {},
   "outputs": [
    {
     "data": {
      "text/plain": [
       "{'R': [0.0, 230.0, 237.0, 243.0, 285.0],\n",
       " 'F': [0.0, 1.0],\n",
       " 'M': [0.0, 50.0, 66.0, 82.0, 100.0]}"
      ]
     },
     "execution_count": 51,
     "metadata": {},
     "output_type": "execute_result"
    }
   ],
   "source": [
    "intervals"
   ]
  },
  {
   "cell_type": "code",
   "execution_count": 52,
   "id": "a2efedc7-154c-481b-9040-dd595b6eec80",
   "metadata": {},
   "outputs": [
    {
     "data": {
      "text/plain": [
       "count    4633.000000\n",
       "mean       65.117958\n",
       "std        20.470561\n",
       "min         0.000000\n",
       "25%        50.000000\n",
       "50%        66.000000\n",
       "75%        82.000000\n",
       "max       100.000000\n",
       "Name: score, dtype: float64"
      ]
     },
     "execution_count": 52,
     "metadata": {},
     "output_type": "execute_result"
    }
   ],
   "source": [
    "prep.score.describe()"
   ]
  },
  {
   "cell_type": "code",
   "execution_count": 55,
   "id": "9b4a1805-286d-48db-ab09-a91b7378113d",
   "metadata": {},
   "outputs": [],
   "source": [
    "task_06 = prep.assign(recency = lambda x: np.digitize(x.success_date_submitted, intervals.get('R')), frequency = lambda x: np.digitize(x.success, intervals.get('F')), monetary = lambda x: np.digitize(x.score, intervals.get('M')))[['id_student', 'recency', 'frequency', 'monetary']]"
   ]
  },
  {
   "cell_type": "code",
   "execution_count": 57,
   "id": "fd1f7248-2fc6-4c55-aca4-b96f4e247958",
   "metadata": {},
   "outputs": [
    {
     "data": {
      "text/html": [
       "<div>\n",
       "<style scoped>\n",
       "    .dataframe tbody tr th:only-of-type {\n",
       "        vertical-align: middle;\n",
       "    }\n",
       "\n",
       "    .dataframe tbody tr th {\n",
       "        vertical-align: top;\n",
       "    }\n",
       "\n",
       "    .dataframe thead th {\n",
       "        text-align: right;\n",
       "    }\n",
       "</style>\n",
       "<table border=\"1\" class=\"dataframe\">\n",
       "  <thead>\n",
       "    <tr style=\"text-align: right;\">\n",
       "      <th></th>\n",
       "      <th>id_student</th>\n",
       "      <th>recency</th>\n",
       "      <th>frequency</th>\n",
       "      <th>monetary</th>\n",
       "    </tr>\n",
       "  </thead>\n",
       "  <tbody>\n",
       "    <tr>\n",
       "      <th>0</th>\n",
       "      <td>23698</td>\n",
       "      <td>4</td>\n",
       "      <td>2</td>\n",
       "      <td>3</td>\n",
       "    </tr>\n",
       "    <tr>\n",
       "      <th>1</th>\n",
       "      <td>24213</td>\n",
       "      <td>2</td>\n",
       "      <td>2</td>\n",
       "      <td>2</td>\n",
       "    </tr>\n",
       "    <tr>\n",
       "      <th>2</th>\n",
       "      <td>27116</td>\n",
       "      <td>4</td>\n",
       "      <td>2</td>\n",
       "      <td>4</td>\n",
       "    </tr>\n",
       "    <tr>\n",
       "      <th>3</th>\n",
       "      <td>28046</td>\n",
       "      <td>3</td>\n",
       "      <td>2</td>\n",
       "      <td>1</td>\n",
       "    </tr>\n",
       "    <tr>\n",
       "      <th>4</th>\n",
       "      <td>28787</td>\n",
       "      <td>4</td>\n",
       "      <td>2</td>\n",
       "      <td>1</td>\n",
       "    </tr>\n",
       "    <tr>\n",
       "      <th>...</th>\n",
       "      <td>...</td>\n",
       "      <td>...</td>\n",
       "      <td>...</td>\n",
       "      <td>...</td>\n",
       "    </tr>\n",
       "    <tr>\n",
       "      <th>4628</th>\n",
       "      <td>2694886</td>\n",
       "      <td>2</td>\n",
       "      <td>2</td>\n",
       "      <td>3</td>\n",
       "    </tr>\n",
       "    <tr>\n",
       "      <th>4629</th>\n",
       "      <td>2694933</td>\n",
       "      <td>2</td>\n",
       "      <td>2</td>\n",
       "      <td>3</td>\n",
       "    </tr>\n",
       "    <tr>\n",
       "      <th>4630</th>\n",
       "      <td>2695608</td>\n",
       "      <td>3</td>\n",
       "      <td>2</td>\n",
       "      <td>3</td>\n",
       "    </tr>\n",
       "    <tr>\n",
       "      <th>4631</th>\n",
       "      <td>2697181</td>\n",
       "      <td>2</td>\n",
       "      <td>2</td>\n",
       "      <td>3</td>\n",
       "    </tr>\n",
       "    <tr>\n",
       "      <th>4632</th>\n",
       "      <td>2698251</td>\n",
       "      <td>2</td>\n",
       "      <td>2</td>\n",
       "      <td>1</td>\n",
       "    </tr>\n",
       "  </tbody>\n",
       "</table>\n",
       "<p>4633 rows × 4 columns</p>\n",
       "</div>"
      ],
      "text/plain": [
       "      id_student  recency  frequency  monetary\n",
       "0          23698        4          2         3\n",
       "1          24213        2          2         2\n",
       "2          27116        4          2         4\n",
       "3          28046        3          2         1\n",
       "4          28787        4          2         1\n",
       "...          ...      ...        ...       ...\n",
       "4628     2694886        2          2         3\n",
       "4629     2694933        2          2         3\n",
       "4630     2695608        3          2         3\n",
       "4631     2697181        2          2         3\n",
       "4632     2698251        2          2         1\n",
       "\n",
       "[4633 rows x 4 columns]"
      ]
     },
     "execution_count": 57,
     "metadata": {},
     "output_type": "execute_result"
    }
   ],
   "source": [
    "task_06"
   ]
  }
 ],
 "metadata": {
  "kernelspec": {
   "display_name": "Python 3 (ipykernel)",
   "language": "python",
   "name": "python3"
  },
  "language_info": {
   "codemirror_mode": {
    "name": "ipython",
    "version": 3
   },
   "file_extension": ".py",
   "mimetype": "text/x-python",
   "name": "python",
   "nbconvert_exporter": "python",
   "pygments_lexer": "ipython3",
   "version": "3.9.13"
  }
 },
 "nbformat": 4,
 "nbformat_minor": 5
}
