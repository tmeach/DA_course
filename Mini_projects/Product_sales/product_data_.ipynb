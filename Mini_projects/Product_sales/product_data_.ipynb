{
 "cells": [
  {
   "cell_type": "code",
   "execution_count": null,
   "id": "f83fd3c2-72fc-4e52-aeaf-51c6833f2e33",
   "metadata": {},
   "outputs": [],
   "source": [
    "Данные имеют следующую структуру:\n",
    "    записываются для каждого пользователя, совершившего покупки, каждый день\n",
    "    для каждой даты есть своя папка, внутри неё – папки для каждого пользователя\n",
    "    внутри каждой папки есть файл data.csv, где и хранятся данные"
   ]
  },
  {
   "cell_type": "code",
   "execution_count": null,
   "id": "660ef223-ae3b-42cd-a769-4da252e0e5d0",
   "metadata": {},
   "outputs": [],
   "source": [
    "Схематично выглядит так:\n",
    "\n",
    "└── data\n",
    "   ├── 2020-12-30\n",
    "   │  ├── FirstName_LastName1\n",
    "   │  │   └── data.csv\n",
    "   │  ├── FirstName_LastName2\n",
    "   │  │   └── data.csv\n",
    "   │  └── FirstName_LastName3\n",
    "   │      └── data.csv\n",
    "   └── 2020-12-31\n",
    "      ├── FirstName_LastName1\n",
    "      │   └── data.csv\n",
    "      └── FirstName_LastName5\n",
    "          └── data.csv"
   ]
  },
  {
   "cell_type": "code",
   "execution_count": null,
   "id": "92bc6b99-94a7-47e0-94df-39c6a4c7639a",
   "metadata": {},
   "outputs": [],
   "source": [
    "# Задание 1: Соберите все данные из папки data в один датафрэйм, имеющий следующие столбцы: колонки из самих файлов (product_id, quantity), имя пользователя (name), и дату этих покупок (date), соответствует названию папки, где лежит папка с пользователем). В качестве ответа укажите сумму по колонке quantity."
   ]
  },
  {
   "cell_type": "code",
   "execution_count": 2,
   "id": "55579604-3666-4463-b4af-bb3baada9734",
   "metadata": {},
   "outputs": [],
   "source": [
    "import pandas as pd\n",
    "import seaborn as sns\n",
    "import matplotlib.pyplot as plt\n",
    "import os\n",
    "import zipfile"
   ]
  },
  {
   "cell_type": "code",
   "execution_count": null,
   "id": "8e9196d9-ce75-47ae-ae84-5689723f9f98",
   "metadata": {},
   "outputs": [],
   "source": [
    "os.listdir('/mnt/HC_Volume_18315164/home-jupyter/jupyter-t-pitsuev/Shared/homeworks/python_ds_miniprojects/4/data')"
   ]
  },
  {
   "cell_type": "code",
   "execution_count": null,
   "id": "0c2a7560-81d8-4370-8471-f1e6f5298cca",
   "metadata": {},
   "outputs": [],
   "source": [
    "# C помощью функции os.walk просматриваю поэтапно все подпапки и файлы в указанной в качестве параметра директории\n",
    "tree=os.walk('/mnt/HC_Volume_18315164/home-jupyter/jupyter-t-pitsuev/Shared/homeworks/python_ds_miniprojects/4/data')\n",
    "\n",
    "\n",
    "# path, directories (folders), files\n",
    "for item in tree:\n",
    "    print(item)"
   ]
  },
  {
   "cell_type": "code",
   "execution_count": null,
   "id": "7c399169-2329-4a4f-8297-4cba0dd37039",
   "metadata": {},
   "outputs": [],
   "source": [
    "tree=os.walk('/mnt/HC_Volume_18315164/home-jupyter/jupyter-t-pitsuev/Shared/homeworks/python_ds_miniprojects/4/data')\n",
    "data_files=[]\n",
    "target_file='data.csv'\n",
    "\n",
    "# путь, папки, файлы\n",
    "for item in tree:\n",
    "    files=item[-1] #взяли последний элемент из кортежа выше\n",
    " \n",
    "    # если папка содержит файлы и первый файл data.csv\n",
    "    if len(files) > 0 and target_file in files:\n",
    "        path=os.path.join(item[0],target_file)\n",
    "        data_files.append(path)\n"
   ]
  },
  {
   "cell_type": "code",
   "execution_count": null,
   "id": "5bd4d4f0-bb21-47e7-a72f-d7840fa913b9",
   "metadata": {},
   "outputs": [],
   "source": [
    "data_files"
   ]
  },
  {
   "cell_type": "code",
   "execution_count": null,
   "id": "eb644c89-6bb3-4f03-b9e9-009d81dfb57d",
   "metadata": {},
   "outputs": [],
   "source": [
    "data_files_df=[]\n",
    " \n",
    "for path in data_files:\n",
    "    df=pd.read_csv(path,index_col=0)\n",
    "    \n",
    "    # выбираем из названия пути только дату и имя\n",
    "    date,name=path.split('/')[10:12]\n",
    "    \n",
    "    # добавляем к датафрейму столбцы date и name\n",
    "    df['date']=date \n",
    "    df['name']=name\n",
    "    \n",
    "    data_files_df.append(df)"
   ]
  },
  {
   "cell_type": "code",
   "execution_count": null,
   "id": "26dd29ec-32e4-4fa9-8fba-602f4a23f775",
   "metadata": {},
   "outputs": [],
   "source": [
    "data_files_df[0].head()"
   ]
  },
  {
   "cell_type": "code",
   "execution_count": null,
   "id": "61b8e69b-b126-49fa-88df-6374ebed64e4",
   "metadata": {},
   "outputs": [],
   "source": [
    "# объединяем в один датафрейм\n",
    "data=pd.concat(data_files_df,ignore_index=True)"
   ]
  },
  {
   "cell_type": "code",
   "execution_count": null,
   "id": "5faf0c6f-e97a-4394-bdaf-7d7adc07ed7a",
   "metadata": {},
   "outputs": [],
   "source": [
    "data"
   ]
  },
  {
   "cell_type": "code",
   "execution_count": null,
   "id": "9147de0a-b47e-4a02-b7c4-aa91d243b088",
   "metadata": {},
   "outputs": [],
   "source": [
    "data.to_csv('unite_df')"
   ]
  },
  {
   "cell_type": "code",
   "execution_count": null,
   "id": "9d3b46ff-49ac-4d43-8a28-71004e15e45c",
   "metadata": {},
   "outputs": [],
   "source": [
    "# Вопрос 2: Выясните, какой пользователь купил больше всего товаров.\n",
    "# Если их несколько, то перечислите имена через запятую с пробелом и в алфавитном порядке.\n",
    "# Например: Anatoly_Karpov, Nekto_Ktotovich, Lena_Uhanova, Ignat, Sasha_Tokarev"
   ]
  },
  {
   "cell_type": "code",
   "execution_count": null,
   "id": "05e12f07-9d8a-494c-8394-a8d8633f8f5b",
   "metadata": {},
   "outputs": [],
   "source": [
    "data.groupby('name', as_index = False).agg({'quantity':'sum'}).sort_values('quantity', ascending=False)"
   ]
  },
  {
   "cell_type": "code",
   "execution_count": null,
   "id": "bb34d748-e517-445e-b9ff-9743ad472231",
   "metadata": {},
   "outputs": [],
   "source": [
    "# Вопрос 3: Найдите топ-10 товаров по числу проданных единиц за всё время и постройте барплот (столбчатую диаграмму, sns.barplot), где:\n",
    "# по оси x – идентификаторы товаров (product_id) \n",
    "# по оси y – суммарное число их покупок (сколько товаров с таким product_id было продано)\n",
    "# Для практики попробуйте изменить параметры графика: цвет (color), прозрачность (alpha), сортировку значений по оси х (order). \n"
   ]
  },
  {
   "cell_type": "code",
   "execution_count": null,
   "id": "2653271f-58ba-4524-98a8-81e3be61bfae",
   "metadata": {},
   "outputs": [],
   "source": [
    "top_ten = data.groupby('product_id', as_index = False).agg({'quantity':'sum'}).sort_values('quantity', ascending=False).head(10)"
   ]
  },
  {
   "cell_type": "code",
   "execution_count": null,
   "id": "2a8a0deb-7421-46ef-9d1e-17aa270a472a",
   "metadata": {},
   "outputs": [],
   "source": [
    "top_ten"
   ]
  },
  {
   "cell_type": "code",
   "execution_count": null,
   "id": "b14d1cac-24d6-486b-ae4e-47f973e888a8",
   "metadata": {},
   "outputs": [],
   "source": [
    "fig, ax = plt.subplots(figsize =(17, 5))\n",
    "sns.barplot(data=top_ten,x='product_id',y='quantity',\n",
    "           order=top_ten.sort_values('quantity',ascending=False).product_id, ax=ax)\n",
    "\n",
    "ax.set_title('Топ-10 покупаемых товаров')\n"
   ]
  },
  {
   "cell_type": "code",
   "execution_count": null,
   "id": "4b62be74-78d2-4c3c-8181-869d7b05a01e",
   "metadata": {},
   "outputs": [],
   "source": [
    "# Вопрос 4: Посмотрим на продажи по дням! Для визуализации снова используйте барплот, только теперь по оси x будут дни, \n",
    "# по которым у нас есть данные (date). Верные утверждения:\n",
    "\n",
    "# 4 декабря было куплено почти в два раза больше товаров, чем в предыдущий день\n",
    "# Меньше всего товаров было приобретено 6 декабря\n",
    "# Максимальное число товаров было продано 4 декабря\n",
    "# 8 и 9 декабря было продано примерно одинаковое число товаров"
   ]
  },
  {
   "cell_type": "code",
   "execution_count": null,
   "id": "66ab0c2b-837f-4591-9877-9d3939f7da42",
   "metadata": {},
   "outputs": [],
   "source": [
    "top_days=data.groupby('date',as_index=False).quantity.sum().sort_values('date')"
   ]
  },
  {
   "cell_type": "code",
   "execution_count": null,
   "id": "af9fb9d8-fceb-40bf-b946-bda18f567ce3",
   "metadata": {},
   "outputs": [],
   "source": [
    "top_days"
   ]
  },
  {
   "cell_type": "code",
   "execution_count": null,
   "id": "2ed711a4-85e6-4dd7-9f45-9a01cd57210c",
   "metadata": {},
   "outputs": [],
   "source": [
    "fig, ax = plt.subplots(figsize=(10, 5))\n",
    "sns.barplot(data=top_days, x='date',y='quantity')\n",
    "ax.tick_params(axis='x',rotation=45)\n",
    "\n",
    "\n",
    "ax.set_title('Покупки по дням') \n"
   ]
  },
  {
   "cell_type": "code",
   "execution_count": null,
   "id": "5ba01fa8-c2f7-4a77-8412-dd9865e43a28",
   "metadata": {},
   "outputs": [],
   "source": [
    "data.head()"
   ]
  },
  {
   "cell_type": "code",
   "execution_count": null,
   "id": "1b54bd3b-5d70-495f-b0e0-ed063e54606f",
   "metadata": {},
   "outputs": [],
   "source": [
    "five_ex=data.groupby('date',as_index=False).quantity.sum()"
   ]
  },
  {
   "cell_type": "code",
   "execution_count": null,
   "id": "c55a1c6b-5a4c-481b-af8d-a27a249998e8",
   "metadata": {},
   "outputs": [],
   "source": [
    "fig, ax = plt.subplots(figsize=(10, 5))\n",
    "sns.barplot(data=five_ex, x='date',y='quantity',\n",
    "           order=five_ex.date,ax=ax)\n",
    "\n",
    "ax.tick_params(axis='x',rotation=45) # сделали метки дат под наклоном\n",
    "ax.set_title('Покупки по дням') # сделали заголовок для диаграммы \n"
   ]
  },
  {
   "cell_type": "code",
   "execution_count": null,
   "id": "82d9a49b-4f7e-49dc-b6d9-0b0b50a8d82c",
   "metadata": {},
   "outputs": [],
   "source": [
    "# Вопрос 5: Сколько пользователей приобрели какой-либо товар повторно (более 1 раза)? Повтором будем считать покупку товара с одинаковым product_id, совершенную в разные дни. \n"
   ]
  },
  {
   "cell_type": "code",
   "execution_count": null,
   "id": "5e230361-5b63-4f4c-9be0-279e34ddac41",
   "metadata": {},
   "outputs": [],
   "source": [
    "# удалил дубликаты, строки в которых все значения совпадают\n",
    "data.drop_duplicates()"
   ]
  },
  {
   "cell_type": "code",
   "execution_count": null,
   "id": "677f2ad6-7940-4f5a-99ef-939e23948976",
   "metadata": {},
   "outputs": [],
   "source": [
    "data.groupby(['name','product_id']).date.nunique().sort_values(ascending=False)"
   ]
  },
  {
   "cell_type": "code",
   "execution_count": null,
   "id": "fd116c7c-e956-43d6-8a54-3341535f741e",
   "metadata": {},
   "outputs": [],
   "source": [
    "unique_prod=data.groupby(['name','product_id']).date.nunique().sort_values(ascending=False)"
   ]
  },
  {
   "cell_type": "code",
   "execution_count": null,
   "id": "cedd9938-9659-4e96-b798-8f3ac76d9460",
   "metadata": {},
   "outputs": [],
   "source": [
    "unique_prod"
   ]
  },
  {
   "cell_type": "code",
   "execution_count": null,
   "id": "d7a00cd9-fbcc-465c-8302-97ff743055e1",
   "metadata": {},
   "outputs": [],
   "source": [
    "unique_prod.loc[unique_prod>1]"
   ]
  }
 ],
 "metadata": {
  "kernelspec": {
   "display_name": "Python 3 (ipykernel)",
   "language": "python",
   "name": "python3"
  },
  "language_info": {
   "codemirror_mode": {
    "name": "ipython",
    "version": 3
   },
   "file_extension": ".py",
   "mimetype": "text/x-python",
   "name": "python",
   "nbconvert_exporter": "python",
   "pygments_lexer": "ipython3",
   "version": "3.8.10"
  }
 },
 "nbformat": 4,
 "nbformat_minor": 5
}
